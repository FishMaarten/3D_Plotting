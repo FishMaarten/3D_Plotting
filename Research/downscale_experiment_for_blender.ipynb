{
 "cells": [
  {
   "cell_type": "code",
   "execution_count": 1,
   "metadata": {},
   "outputs": [],
   "source": [
    "import json\n",
    "import numpy as np\n",
    "import pandas as pd\n",
    "import geopandas as gpd\n",
    "from geopandas import GeoDataFrame\n",
    "import rasterio as rio\n",
    "from rasterio.plot import show\n",
    "from rasterio.mask import mask\n",
    "from shapely.geometry import Polygon"
   ]
  },
  {
   "cell_type": "code",
   "execution_count": 2,
   "metadata": {},
   "outputs": [],
   "source": [
    "class Box:\n",
    "    def __init__(self, left:int=0, bottom:int=0, right:int=0, top:int=0):\n",
    "        self.left,self.bottom,self.right,self.top = left,bottom,right,top\n",
    "        self.width, self.height = self.right -self.left, self.top -self.bottom\n",
    "    def __str__(self):\n",
    "        return \"left:{} bottom:{} right:{} top:{} width:{} height:{}\".format(\n",
    "            self.left, self.bottom, self.right, self.top, self.width, self.height)\n",
    "    def in_bounds(self, x:int, y:int) -> bool:\n",
    "        return self.left < x < self.right and self.bottom < y < self.top"
   ]
  },
  {
   "cell_type": "code",
   "execution_count": 3,
   "metadata": {},
   "outputs": [],
   "source": [
    "def center(poly:Polygon):\n",
    "    return(int(poly.bounds[0]+poly.bounds[2]-poly.bounds[0]),\n",
    "           int(poly.bounds[1]+poly.bounds[3]-poly.bounds[1]))"
   ]
  },
  {
   "cell_type": "code",
   "execution_count": 4,
   "metadata": {},
   "outputs": [],
   "source": [
    "def get_shapes_in_box(gdf: GeoDataFrame, box: Box) -> GeoDataFrame:\n",
    "    return gdf[gdf.geometry.apply(\n",
    "        lambda d: box.in_bounds(\n",
    "            x = center(Polygon(d))[0],\n",
    "            y = center(Polygon(d))[1]\n",
    "        ))]"
   ]
  },
  {
   "cell_type": "code",
   "execution_count": 5,
   "metadata": {},
   "outputs": [],
   "source": [
    "def shape_mean(tif, shape):\n",
    "    out_image, out_transform = mask(tif, shapes=[shape], crop=True, invert=False)\n",
    "    li = []\n",
    "    for y in out_image[0]:\n",
    "        for x in y:\n",
    "            if x > 0:\n",
    "                li.append(x)\n",
    "    return np.array(li).mean()"
   ]
  },
  {
   "cell_type": "code",
   "execution_count": 6,
   "metadata": {},
   "outputs": [],
   "source": [
    "shapefile = gpd.read_file(\"/home/becode/Projects/3D_House/Shapes/ANTWERPEN_L72_2020/Bpn_ReBu.shp\")"
   ]
  },
  {
   "cell_type": "code",
   "execution_count": 7,
   "metadata": {},
   "outputs": [],
   "source": [
    "beacon_tif = rio.open(\"./k15_1_2_1_1_0.tif\")\n",
    "beacon_box = Box(*beacon_tif.bounds)"
   ]
  },
  {
   "cell_type": "code",
   "execution_count": 8,
   "metadata": {},
   "outputs": [
    {
     "name": "stderr",
     "output_type": "stream",
     "text": [
      "/home/becode/anaconda3/lib/python3.7/site-packages/ipykernel_launcher.py:8: RuntimeWarning: Mean of empty slice.\n",
      "  \n",
      "/home/becode/anaconda3/lib/python3.7/site-packages/geopandas/geodataframe.py:831: SettingWithCopyWarning: \n",
      "A value is trying to be set on a copy of a slice from a DataFrame.\n",
      "Try using .loc[row_indexer,col_indexer] = value instead\n",
      "\n",
      "See the caveats in the documentation: https://pandas.pydata.org/pandas-docs/stable/user_guide/indexing.html#returning-a-view-versus-a-copy\n",
      "  super(GeoDataFrame, self).__setitem__(key, value)\n"
     ]
    }
   ],
   "source": [
    "beacon_shapes = get_shapes_in_box(shapefile, beacon_box)\n",
    "beacon_shapes.reset_index(inplace=True)\n",
    "#beacon_shapes = beacon_shapes.drop(\n",
    "#    [\"index\",\"RecId\",\"CaBlKey\",\"AdMuKey\",\"Type\",\"Source\",\"Quality\",\"QualDate\",\"UpdDate\"], axis=1)\n",
    "beacon_shapes[\"Height\"] = beacon_shapes.geometry.apply(lambda x: shape_mean(beacon_tif, x))\n",
    "#beacon_shapes"
   ]
  },
  {
   "cell_type": "code",
   "execution_count": 9,
   "metadata": {},
   "outputs": [
    {
     "name": "stdout",
     "output_type": "stream",
     "text": [
      "151974.0570291095 , 212336.08812237438 , 152999.74696514395 , 212999.84792066645\n"
     ]
    }
   ],
   "source": [
    "minx = beacon_shapes.bounds.minx.min()\n",
    "miny = beacon_shapes.bounds.miny.min()\n",
    "maxx = beacon_shapes.bounds.maxx.max()\n",
    "maxy = beacon_shapes.bounds.maxy.max()\n",
    "print(\" , \".join(map(str,[minx, miny, maxx, maxy])))"
   ]
  },
  {
   "cell_type": "markdown",
   "metadata": {},
   "source": [
    "# Downscale the polygons"
   ]
  },
  {
   "cell_type": "code",
   "execution_count": 10,
   "metadata": {},
   "outputs": [
    {
     "name": "stderr",
     "output_type": "stream",
     "text": [
      "/home/becode/anaconda3/lib/python3.7/site-packages/geopandas/geodataframe.py:831: SettingWithCopyWarning: \n",
      "A value is trying to be set on a copy of a slice from a DataFrame.\n",
      "Try using .loc[row_indexer,col_indexer] = value instead\n",
      "\n",
      "See the caveats in the documentation: https://pandas.pydata.org/pandas-docs/stable/user_guide/indexing.html#returning-a-view-versus-a-copy\n",
      "  super(GeoDataFrame, self).__setitem__(key, value)\n"
     ]
    }
   ],
   "source": [
    "def downscale(poly:Polygon, minx:float, miny:float) -> Polygon:\n",
    "    li = []\n",
    "    for coord in poly.exterior.coords:\n",
    "        coord = ((coord[0]-minx)/100, (coord[1]-miny)/100)\n",
    "        li.append(coord)\n",
    "    return Polygon(li)\n",
    "\n",
    "beacon_shapes[\"Downscale\"] = beacon_shapes.geometry.apply(\n",
    "    lambda x: downscale(x,minx,miny))\n",
    "beacon_shapes[\"Height\"] = beacon_shapes.Height.apply(\n",
    "    lambda x: x/100)"
   ]
  },
  {
   "cell_type": "code",
   "execution_count": 11,
   "metadata": {},
   "outputs": [],
   "source": [
    "polygons = pd.DataFrame([beacon_shapes.Height, beacon_shapes.Downscale]).T\n",
    "polygons.to_csv(\"./downscaled_polygons.csv\")"
   ]
  },
  {
   "cell_type": "code",
   "execution_count": 12,
   "metadata": {
    "scrolled": false
   },
   "outputs": [],
   "source": [
    "#polygons"
   ]
  },
  {
   "cell_type": "markdown",
   "metadata": {},
   "source": [
    "# EXPERIMENT"
   ]
  },
  {
   "cell_type": "code",
   "execution_count": 13,
   "metadata": {},
   "outputs": [],
   "source": [
    "from blender_object_builder import Vertex"
   ]
  },
  {
   "cell_type": "code",
   "execution_count": 14,
   "metadata": {},
   "outputs": [
    {
     "name": "stderr",
     "output_type": "stream",
     "text": [
      "/home/becode/anaconda3/lib/python3.7/site-packages/geopandas/geodataframe.py:831: SettingWithCopyWarning: \n",
      "A value is trying to be set on a copy of a slice from a DataFrame.\n",
      "Try using .loc[row_indexer,col_indexer] = value instead\n",
      "\n",
      "See the caveats in the documentation: https://pandas.pydata.org/pandas-docs/stable/user_guide/indexing.html#returning-a-view-versus-a-copy\n",
      "  super(GeoDataFrame, self).__setitem__(key, value)\n"
     ]
    }
   ],
   "source": [
    "def polypoint_to_vertex(polypoint):\n",
    "    return Vertex(*polypoint)\n",
    "def polygon_to_vertices(polygon):\n",
    "    li = []\n",
    "    for coord in polygon.exterior.coords:\n",
    "        li.append(polypoint_to_vertex(coord))\n",
    "    return li[:-1]\n",
    "\n",
    "beacon_shapes[\"Vertices\"] = beacon_shapes.Downscale.apply(\n",
    "    lambda x: polygon_to_vertices(x))\n",
    "\n",
    "vertices = pd.DataFrame(beacon_shapes[[\"Vertices\", \"Height\"]])\n",
    "vertices.to_csv(\"./experimental.csv\")"
   ]
  },
  {
   "cell_type": "markdown",
   "metadata": {},
   "source": [
    "# JSON dump"
   ]
  },
  {
   "cell_type": "markdown",
   "metadata": {},
   "source": [
    "### Experiment 1"
   ]
  },
  {
   "cell_type": "code",
   "execution_count": 15,
   "metadata": {},
   "outputs": [],
   "source": [
    "#data = {}\n",
    "#for idx, v in enumerate(vertices.Vertices):\n",
    "#    data[idx] = []\n",
    "#    for vertex in v:\n",
    "#        data[idx].append(tuple(vertex.xyz))\n",
    "#with open(\"experimental.json\", \"w\") as out:\n",
    "#    json.dump(data, out)"
   ]
  },
  {
   "cell_type": "markdown",
   "metadata": {},
   "source": [
    "### Experiment 2"
   ]
  },
  {
   "cell_type": "code",
   "execution_count": 16,
   "metadata": {},
   "outputs": [],
   "source": [
    "data = {}\n",
    "for idx, entry in vertices.iterrows():\n",
    "    data[idx] = {}\n",
    "    data[idx][\"Height\"] = entry.Height\n",
    "    data[idx][\"Vertices\"] = []\n",
    "    for vertex in entry.Vertices:\n",
    "        data[idx][\"Vertices\"].append(tuple(vertex.xyz))\n",
    "with open(\"experimental.json\", \"w\") as out:\n",
    "    json.dump(data, out)"
   ]
  },
  {
   "cell_type": "markdown",
   "metadata": {},
   "source": [
    "### Experiment 3 RAW height map"
   ]
  },
  {
   "cell_type": "code",
   "execution_count": 3,
   "metadata": {},
   "outputs": [],
   "source": [
    "# JSON File\n",
    "raw_tif = rio.open(\"./crop.tif\")\n",
    "raw_data = np.array(raw_tif.read(1))\n",
    "data = {}\n",
    "for y in range(raw_data.shape[0]):\n",
    "    data[int(y)] = []\n",
    "    for x in range(raw_data.shape[1]):\n",
    "        data[y].append(np.float64(raw_data[y,x]))\n",
    "with open(\"raw_experiment.json\", \"w\") as out:\n",
    "    json.dump(data, out)"
   ]
  },
  {
   "cell_type": "code",
   "execution_count": 11,
   "metadata": {},
   "outputs": [],
   "source": [
    "# BYTE ARRAY File\n",
    "raw = np.array(rio.open(\"./k15_1_2_1_1_0.tif\").read(1))\n",
    "with open(\"K15_1_2_1_1_0.dada\", \"wb\") as out:\n",
    "    for y in range(raw.shape[0]):\n",
    "        for x in range(raw.shape[1]):\n",
    "            b = bytearray()\n",
    "            b.extend(raw[y,x])\n",
    "            out.write(b)"
   ]
  },
  {
   "cell_type": "markdown",
   "metadata": {},
   "source": [
    "##### Conclusion: .tif uses a byte array as \"filetype\" so impossible to go smaller without compression"
   ]
  },
  {
   "cell_type": "code",
   "execution_count": null,
   "metadata": {},
   "outputs": [],
   "source": []
  }
 ],
 "metadata": {
  "kernelspec": {
   "display_name": "Python 3",
   "language": "python",
   "name": "python3"
  },
  "language_info": {
   "codemirror_mode": {
    "name": "ipython",
    "version": 3
   },
   "file_extension": ".py",
   "mimetype": "text/x-python",
   "name": "python",
   "nbconvert_exporter": "python",
   "pygments_lexer": "ipython3",
   "version": "3.7.6"
  }
 },
 "nbformat": 4,
 "nbformat_minor": 4
}
