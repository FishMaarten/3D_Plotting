{
 "cells": [
  {
   "cell_type": "code",
   "execution_count": 1,
   "metadata": {},
   "outputs": [],
   "source": [
    "import os\n",
    "import re\n",
    "import json\n",
    "import requests\n",
    "import pandas as pd\n",
    "import geopandas as gpd\n",
    "from bs4 import BeautifulSoup as BS\n",
    "from bs4 import NavigableString as NS"
   ]
  },
  {
   "cell_type": "markdown",
   "metadata": {},
   "source": [
    "10000-20000: Antwerpen  \n",
    "11000-12000: Admin Antwerpen  \n",
    "12000-13000: Admin Mechelen  \n",
    "13000-14000: Admin Turnhout  \n",
    "\n",
    "21000-22000: Brussel  \n",
    "22000-24000: Vlaams-Brabant  \n",
    "22000-23000: Admin Halle-Vilvoorde  \n",
    "23000-24000: Admin Leuven  \n",
    "\n",
    "30000-40000: West-Vlaanderen  \n",
    "40000-50000: Oost-Vlaanderen  \n",
    "70000-80000: Limburg  "
   ]
  },
  {
   "cell_type": "code",
   "execution_count": 3,
   "metadata": {},
   "outputs": [],
   "source": [
    "df = pd.read_csv(\"REFNIS_2019.csv\", encoding='latin1', sep=\";\")\n",
    "df.drop([\"Code INS\",\"Entités administratives\",\"Langue\"], axis=1, inplace=True)\n",
    "df.drop([f\"Unnamed: {idx}\" for idx in range(6,15)], axis=1, inplace=True)\n",
    "\n",
    "admin = df[df[\"Code NIS\"].apply(lambda x: 10000<=x<20000) & df[\"Code NIS\"].apply(lambda x: x%1000 is 0)]\n",
    "\n",
    "drop = df[df[\"Code NIS\"].apply(lambda x: 10000<=x<20000) & df[\"Code NIS\"].apply(lambda x: x%1000 is 0)]\n",
    "province = df[df[\"Code NIS\"].apply(lambda x: 10000<=x<20000)]\n",
    "province = province.sort_values([\"Administratieve eenheden\"]) # Sort by name\n",
    "province[province[\"Administratieve eenheden\"].apply(lambda x: x[0] == \"A\")] # Starts with letter\n",
    "pass"
   ]
  },
  {
   "cell_type": "code",
   "execution_count": 4,
   "metadata": {
    "scrolled": false
   },
   "outputs": [
    {
     "ename": "NameError",
     "evalue": "name 'nis_lookup' is not defined",
     "output_type": "error",
     "traceback": [
      "\u001b[0;31m---------------------------------------------------------------------------\u001b[0m",
      "\u001b[0;31mNameError\u001b[0m                                 Traceback (most recent call last)",
      "\u001b[0;32m<ipython-input-4-a7496f48115c>\u001b[0m in \u001b[0;36m<module>\u001b[0;34m\u001b[0m\n\u001b[1;32m     33\u001b[0m \u001b[0;34m\u001b[0m\u001b[0m\n\u001b[1;32m     34\u001b[0m \u001b[0;34m\u001b[0m\u001b[0m\n\u001b[0;32m---> 35\u001b[0;31m \u001b[0mNIS\u001b[0m\u001b[0;34m.\u001b[0m\u001b[0mprint_nis_lookup\u001b[0m\u001b[0;34m(\u001b[0m\u001b[0;34m)\u001b[0m\u001b[0;34m\u001b[0m\u001b[0;34m\u001b[0m\u001b[0m\n\u001b[0m",
      "\u001b[0;32m<ipython-input-4-a7496f48115c>\u001b[0m in \u001b[0;36mprint_nis_lookup\u001b[0;34m()\u001b[0m\n\u001b[1;32m     26\u001b[0m \u001b[0;34m\u001b[0m\u001b[0m\n\u001b[1;32m     27\u001b[0m     \u001b[0;32mdef\u001b[0m \u001b[0mprint_nis_lookup\u001b[0m\u001b[0;34m(\u001b[0m\u001b[0;34m)\u001b[0m\u001b[0;34m:\u001b[0m\u001b[0;34m\u001b[0m\u001b[0;34m\u001b[0m\u001b[0m\n\u001b[0;32m---> 28\u001b[0;31m         \u001b[0;32mfor\u001b[0m \u001b[0mprovince\u001b[0m\u001b[0;34m,\u001b[0m \u001b[0mcollection\u001b[0m \u001b[0;32min\u001b[0m \u001b[0mnis_lookup\u001b[0m\u001b[0;34m.\u001b[0m\u001b[0mitems\u001b[0m\u001b[0;34m(\u001b[0m\u001b[0;34m)\u001b[0m\u001b[0;34m:\u001b[0m\u001b[0;34m\u001b[0m\u001b[0;34m\u001b[0m\u001b[0m\n\u001b[0m\u001b[1;32m     29\u001b[0m             \u001b[0mprint\u001b[0m\u001b[0;34m(\u001b[0m\u001b[0;34mf\"{province}\"\u001b[0m\u001b[0;34m)\u001b[0m\u001b[0;34m\u001b[0m\u001b[0;34m\u001b[0m\u001b[0m\n\u001b[1;32m     30\u001b[0m             \u001b[0;32mfor\u001b[0m \u001b[0mplace\u001b[0m\u001b[0;34m,\u001b[0m \u001b[0mnis\u001b[0m \u001b[0;32min\u001b[0m \u001b[0mcollection\u001b[0m\u001b[0;34m.\u001b[0m\u001b[0mitems\u001b[0m\u001b[0;34m(\u001b[0m\u001b[0;34m)\u001b[0m\u001b[0;34m:\u001b[0m\u001b[0;34m\u001b[0m\u001b[0;34m\u001b[0m\u001b[0m\n",
      "\u001b[0;31mNameError\u001b[0m: name 'nis_lookup' is not defined"
     ]
    }
   ],
   "source": [
    "class NIS:\n",
    "    def __init__(self, place:str, code:int):\n",
    "        self.place = place\n",
    "        self.code = code\n",
    "        \n",
    "    @classmethod\n",
    "    def from_place(cls, place:str):\n",
    "        pass\n",
    "    \n",
    "    def initialize_dictionary():\n",
    "        province_nis_range = {\n",
    "        \"Antwerpen\":       lambda x: 10000 <=x <20000,\n",
    "        \"Brussel\":         lambda x: 21000 <=x <22000,\n",
    "        \"Vlaams-Brabant\":  lambda x: 22000 <=x <24000,\n",
    "        \"West-Vlaanderen\": lambda x: 30000 <=x <40000,\n",
    "        \"Oost-Vlaanderen\": lambda x: 40000 <=x <50000,\n",
    "        \"Limburg\":         lambda x: 70000 <=x <80000}\n",
    "\n",
    "        nis_lookup = {}\n",
    "        for province, nis_range in province_nis_range.items():\n",
    "            dataframe = df[df[\"Code NIS\"].apply(nis_range) & df[\"Code NIS\"].apply(lambda x: x%1000 is not 0)]\n",
    "            dataframe = dataframe.sort_values(\"Administratieve eenheden\")\n",
    "            nis_lookup[province] = dict(zip(\n",
    "                (item[1] for item in dataframe[\"Administratieve eenheden\"].items()),\n",
    "                (item[1] for item in dataframe[\"Code NIS\"].items())))\n",
    "\n",
    "    def print_nis_lookup():\n",
    "        for province, collection in nis_lookup.items():\n",
    "            print(f\"{province}\")\n",
    "            for place, nis in collection.items():\n",
    "                print(f\"\\t{place} : {nis}\")\n",
    "                \n",
    "    \n",
    "\n",
    "NIS.print_nis_lookup()"
   ]
  },
  {
   "cell_type": "code",
   "execution_count": 435,
   "metadata": {},
   "outputs": [
    {
     "name": "stdout",
     "output_type": "stream",
     "text": [
      "12009\n",
      "<class 'int'>\n"
     ]
    }
   ],
   "source": [
    "NIS = nis_lookup[\"Antwerpen\"][\"Duffel\"]\n",
    "print(NIS)\n",
    "print(type(NIS))\n",
    "#url = f\"https://eservices.minfin.fgov.be/myminfin-rest/cadastral-plan/cadastralPlan/2020/12009/72\"\n",
    "#req = requests.get(url)"
   ]
  },
  {
   "cell_type": "code",
   "execution_count": 440,
   "metadata": {},
   "outputs": [],
   "source": [
    "from io import BytesIO\n",
    "from zipfile import ZipFile\n",
    "\n",
    "def get_shapefiles_from_nis_code(file_names:[], nis:NisCode):\n",
    "    url = f\"https://eservices.minfin.fgov.be/myminfin-rest/cadastral-plan/cadastralPlan/2020/{nis.code}/72\"\n",
    "    with ZipFile(BytesIO(requests.get(url).content)) as package:\n",
    "        for content in package.namelist():\n",
    "            if re.match(f\".*({file_type}).*\", content):\n",
    "                if not os.path.exists(\"./Test/\"):\n",
    "                    os.mkdir(\"./Test/\")\n",
    "                with open(f\"./Test/{content}\", \"wb\") as file:\n",
    "                    file.write(package.read(content))\n",
    "\n",
    "#get_shapefiles_from_nis_code([\"CaBu\",\"ReBu\",\"CaBl\"], NIS)\n",
    "\n",
    "#shape = gpd.read_file(f\"./Test/Bli_EaZo.shp\")"
   ]
  },
  {
   "cell_type": "code",
   "execution_count": null,
   "metadata": {},
   "outputs": [],
   "source": []
  }
 ],
 "metadata": {
  "kernelspec": {
   "display_name": "Python 3",
   "language": "python",
   "name": "python3"
  },
  "language_info": {
   "codemirror_mode": {
    "name": "ipython",
    "version": 3
   },
   "file_extension": ".py",
   "mimetype": "text/x-python",
   "name": "python",
   "nbconvert_exporter": "python",
   "pygments_lexer": "ipython3",
   "version": "3.7.6"
  }
 },
 "nbformat": 4,
 "nbformat_minor": 4
}
