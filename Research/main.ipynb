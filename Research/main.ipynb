{
 "cells": [
  {
   "cell_type": "code",
   "execution_count": 2,
   "metadata": {},
   "outputs": [
    {
     "name": "stdout",
     "output_type": "stream",
     "text": [
      "Address : Bosstraat 45 Duffel\n",
      "Crop size: 100\n"
     ]
    },
    {
     "data": {
      "text/plain": [
       "<Figure size 576x576 with 0 Axes>"
      ]
     },
     "metadata": {},
     "output_type": "display_data"
    }
   ],
   "source": [
    "import requests\n",
    "import matplotlib.pyplot as plt\n",
    "from dependencies import Box, GeoTIFF\n",
    "\n",
    "def get_lambert(address:str) -> (int,int):\n",
    "    req = requests.get(f\"http://loc.geopunt.be/geolocation/location?q={address}&c=1\")\n",
    "    return (req.json()[\"LocationResult\"][0][\"Location\"][\"X_Lambert72\"],\n",
    "            req.json()[\"LocationResult\"][0][\"Location\"][\"Y_Lambert72\"])\n",
    "\n",
    "x, y = get_lambert(input(\"Address : \"))\n",
    "size = int(input(\"Crop size: \"))\n",
    "plt.figure(figsize=(8,8))\n",
    "tif = GeoTIFF.get_containing_tif(x, y, size)\n",
    "crop = tif.crop_location(x, y, size)\n",
    "#crop.show()"
   ]
  },
  {
   "cell_type": "code",
   "execution_count": 19,
   "metadata": {},
   "outputs": [],
   "source": [
    "import pandas as pd\n",
    "import geopandas as gpd\n",
    "from geopandas import GeoDataFrame\n",
    "from shapely.geometry import Polygon\n",
    "from shapely.geometry import MultiPolygon\n",
    "\n",
    "shape_lookup = pd.read_csv(\"./Shapes/shape_lookup.csv\", sep=\"|\")\n",
    "\n",
    "def center(poly:Polygon):\n",
    "    return(int(poly.bounds[0]+poly.bounds[2]-poly.bounds[0]),\n",
    "           int(poly.bounds[1]+poly.bounds[3]-poly.bounds[1]))\n",
    "\n",
    "def get_shapes_in_box(gdf: GeoDataFrame, box: Box) -> GeoDataFrame:\n",
    "    return gdf[gdf.geometry.apply(\n",
    "        lambda d: box.contains_point(\n",
    "            x = center(Polygon(d))[0],\n",
    "            y = center(Polygon(d))[1])\n",
    "        if type(d) != MultiPolygon else False)]\n",
    "\n",
    "def get_containing_shape_file(tif_box:Box, file_type:str):\n",
    "    entry = shape_lookup[shape_lookup[file_type].apply(\n",
    "        lambda x:Box.from_string(x).contains_box(tif_box) if pd.notnull(x) else False)]\n",
    "    if entry.empty: return False\n",
    "    return gpd.read_file(f\"./Shapes/{entry.Province.values[0]}/{entry.Place.values[0]}/Bpn_{file_type}.shp\")"
   ]
  },
  {
   "cell_type": "code",
   "execution_count": 17,
   "metadata": {},
   "outputs": [
    {
     "data": {
      "text/html": [
       "<div>\n",
       "<style scoped>\n",
       "    .dataframe tbody tr th:only-of-type {\n",
       "        vertical-align: middle;\n",
       "    }\n",
       "\n",
       "    .dataframe tbody tr th {\n",
       "        vertical-align: top;\n",
       "    }\n",
       "\n",
       "    .dataframe thead th {\n",
       "        text-align: right;\n",
       "    }\n",
       "</style>\n",
       "<table border=\"1\" class=\"dataframe\">\n",
       "  <thead>\n",
       "    <tr style=\"text-align: right;\">\n",
       "      <th></th>\n",
       "      <th>Place</th>\n",
       "      <th>Province</th>\n",
       "      <th>CaBl</th>\n",
       "      <th>CaBu</th>\n",
       "      <th>ReBu</th>\n",
       "    </tr>\n",
       "  </thead>\n",
       "  <tbody>\n",
       "    <tr>\n",
       "      <th>0</th>\n",
       "      <td>Aartselaar</td>\n",
       "      <td>Antwerpen</td>\n",
       "      <td>148952 199943 152798 204560 3846 4617</td>\n",
       "      <td>NaN</td>\n",
       "      <td>148977 199945 152668 204502 3691 4557</td>\n",
       "    </tr>\n",
       "    <tr>\n",
       "      <th>1</th>\n",
       "      <td>Antwerpen</td>\n",
       "      <td>Antwerpen</td>\n",
       "      <td>141272 203701 159026 229767 17754 26066</td>\n",
       "      <td>147923 207345 157827 214886 9904 7541</td>\n",
       "      <td>141490 203963 159013 229762 17523 25799</td>\n",
       "    </tr>\n",
       "    <tr>\n",
       "      <th>2</th>\n",
       "      <td>Arendonk</td>\n",
       "      <td>Antwerpen</td>\n",
       "      <td>196056 220435 203829 231746 7773 11311</td>\n",
       "      <td>199191 223404 199229 223445 38 41</td>\n",
       "      <td>196127 220782 203647 230679 7520 9897</td>\n",
       "    </tr>\n",
       "    <tr>\n",
       "      <th>3</th>\n",
       "      <td>Baarle-Hertog</td>\n",
       "      <td>Antwerpen</td>\n",
       "      <td>181838 231590 190598 238597 8760 7007</td>\n",
       "      <td>NaN</td>\n",
       "      <td>185124 231843 190564 238099 5440 6256</td>\n",
       "    </tr>\n",
       "    <tr>\n",
       "      <th>4</th>\n",
       "      <td>Balen</td>\n",
       "      <td>Antwerpen</td>\n",
       "      <td>200382 200958 212516 211611 12134 10653</td>\n",
       "      <td>200416 201263 212499 211232 12083 9969</td>\n",
       "      <td>206625 208293 206633 208299 8 6</td>\n",
       "    </tr>\n",
       "    <tr>\n",
       "      <th>...</th>\n",
       "      <td>...</td>\n",
       "      <td>...</td>\n",
       "      <td>...</td>\n",
       "      <td>...</td>\n",
       "      <td>...</td>\n",
       "    </tr>\n",
       "    <tr>\n",
       "      <th>277</th>\n",
       "      <td>Tongeren</td>\n",
       "      <td>Limburg</td>\n",
       "      <td>221970 157179 233540 168608 11570 11429</td>\n",
       "      <td>222304 158069 232851 168119 10547 10050</td>\n",
       "      <td>NaN</td>\n",
       "    </tr>\n",
       "    <tr>\n",
       "      <th>278</th>\n",
       "      <td>Voeren</td>\n",
       "      <td>Limburg</td>\n",
       "      <td>242765 156601 258866 164578 16101 7977</td>\n",
       "      <td>NaN</td>\n",
       "      <td>242912 156684 258459 164565 15547 7881</td>\n",
       "    </tr>\n",
       "    <tr>\n",
       "      <th>279</th>\n",
       "      <td>Wellen</td>\n",
       "      <td>Limburg</td>\n",
       "      <td>213099 167240 220675 173475 7576 6235</td>\n",
       "      <td>213365 167260 220323 173403 6958 6143</td>\n",
       "      <td>NaN</td>\n",
       "    </tr>\n",
       "    <tr>\n",
       "      <th>280</th>\n",
       "      <td>Zonhoven</td>\n",
       "      <td>Limburg</td>\n",
       "      <td>215448 184079 226967 189616 11519 5537</td>\n",
       "      <td>NaN</td>\n",
       "      <td>215610 184086 224973 189593 9363 5507</td>\n",
       "    </tr>\n",
       "    <tr>\n",
       "      <th>281</th>\n",
       "      <td>Zutendaal</td>\n",
       "      <td>Limburg</td>\n",
       "      <td>231531 176799 237559 185937 6028 9138</td>\n",
       "      <td>231736 177203 237368 184422 5632 7219</td>\n",
       "      <td>NaN</td>\n",
       "    </tr>\n",
       "  </tbody>\n",
       "</table>\n",
       "<p>282 rows × 5 columns</p>\n",
       "</div>"
      ],
      "text/plain": [
       "             Place   Province                                     CaBl  \\\n",
       "0       Aartselaar  Antwerpen    148952 199943 152798 204560 3846 4617   \n",
       "1        Antwerpen  Antwerpen  141272 203701 159026 229767 17754 26066   \n",
       "2         Arendonk  Antwerpen   196056 220435 203829 231746 7773 11311   \n",
       "3    Baarle-Hertog  Antwerpen    181838 231590 190598 238597 8760 7007   \n",
       "4            Balen  Antwerpen  200382 200958 212516 211611 12134 10653   \n",
       "..             ...        ...                                      ...   \n",
       "277       Tongeren    Limburg  221970 157179 233540 168608 11570 11429   \n",
       "278         Voeren    Limburg   242765 156601 258866 164578 16101 7977   \n",
       "279         Wellen    Limburg    213099 167240 220675 173475 7576 6235   \n",
       "280       Zonhoven    Limburg   215448 184079 226967 189616 11519 5537   \n",
       "281      Zutendaal    Limburg    231531 176799 237559 185937 6028 9138   \n",
       "\n",
       "                                        CaBu  \\\n",
       "0                                        NaN   \n",
       "1      147923 207345 157827 214886 9904 7541   \n",
       "2          199191 223404 199229 223445 38 41   \n",
       "3                                        NaN   \n",
       "4     200416 201263 212499 211232 12083 9969   \n",
       "..                                       ...   \n",
       "277  222304 158069 232851 168119 10547 10050   \n",
       "278                                      NaN   \n",
       "279    213365 167260 220323 173403 6958 6143   \n",
       "280                                      NaN   \n",
       "281    231736 177203 237368 184422 5632 7219   \n",
       "\n",
       "                                        ReBu  \n",
       "0      148977 199945 152668 204502 3691 4557  \n",
       "1    141490 203963 159013 229762 17523 25799  \n",
       "2      196127 220782 203647 230679 7520 9897  \n",
       "3      185124 231843 190564 238099 5440 6256  \n",
       "4            206625 208293 206633 208299 8 6  \n",
       "..                                       ...  \n",
       "277                                      NaN  \n",
       "278   242912 156684 258459 164565 15547 7881  \n",
       "279                                      NaN  \n",
       "280    215610 184086 224973 189593 9363 5507  \n",
       "281                                      NaN  \n",
       "\n",
       "[282 rows x 5 columns]"
      ]
     },
     "execution_count": 17,
     "metadata": {},
     "output_type": "execute_result"
    }
   ],
   "source": [
    "shape_lookup"
   ]
  },
  {
   "cell_type": "code",
   "execution_count": 22,
   "metadata": {},
   "outputs": [
    {
     "name": "stdout",
     "output_type": "stream",
     "text": [
      "Address : Bosstraat 45 Duffel\n",
      "Crop size: 100\n"
     ]
    },
    {
     "data": {
      "text/plain": [
       "<Figure size 576x576 with 0 Axes>"
      ]
     },
     "metadata": {},
     "output_type": "display_data"
    },
    {
     "data": {
      "image/png": "[encoded data removed]",
      "text/plain": [
       "<Figure size 432x288 with 1 Axes>"
      ]
     },
     "metadata": {
      "needs_background": "light"
     },
     "output_type": "display_data"
    },
    {
     "data": {
      "text/plain": [
       "<matplotlib.axes._subplots.AxesSubplot at 0x7f6112271690>"
      ]
     },
     "execution_count": 22,
     "metadata": {},
     "output_type": "execute_result"
    }
   ],
   "source": [
    "import requests\n",
    "import matplotlib.pyplot as plt\n",
    "from dependencies import Box, GeoTIFF\n",
    "\n",
    "def get_lambert(address:str) -> (int,int):\n",
    "    req = requests.get(f\"http://loc.geopunt.be/geolocation/location?q={address}&c=1\")\n",
    "    return (req.json()[\"LocationResult\"][0][\"Location\"][\"X_Lambert72\"],\n",
    "            req.json()[\"LocationResult\"][0][\"Location\"][\"Y_Lambert72\"])\n",
    "\n",
    "x, y = get_lambert(input(\"Address : \"))\n",
    "size = int(input(\"Crop size: \"))\n",
    "\n",
    "plt.figure(figsize=(8,8))\n",
    "tif = GeoTIFF.get_containing_tif(x, y, size)\n",
    "crop = tif.crop_location(x, y, size)\n",
    "shape_file = get_containing_shape_file(crop.box, \"CaBu\")\n",
    "boxed_shapes = get_shapes_in_box(shape_file, crop.box)\n",
    "boxed_shapes.plot()\n",
    "crop.show()"
   ]
  },
  {
   "cell_type": "code",
   "execution_count": 23,
   "metadata": {},
   "outputs": [
    {
     "data": {
      "text/plain": [
       "<matplotlib.axes._subplots.AxesSubplot at 0x7f6112b5da90>"
      ]
     },
     "execution_count": 23,
     "metadata": {},
     "output_type": "execute_result"
    },
    {
     "data": {
      "image/png": "[encoded data removed]",
      "text/plain": [
       "<Figure size 432x288 with 1 Axes>"
      ]
     },
     "metadata": {
      "needs_background": "light"
     },
     "output_type": "display_data"
    }
   ],
   "source": [
    "boxed_shapes.plot()"
   ]
  },
  {
   "cell_type": "code",
   "execution_count": null,
   "metadata": {},
   "outputs": [],
   "source": []
  }
 ],
 "metadata": {
  "kernelspec": {
   "display_name": "Python 3",
   "language": "python",
   "name": "python3"
  },
  "language_info": {
   "codemirror_mode": {
    "name": "ipython",
    "version": 3
   },
   "file_extension": ".py",
   "mimetype": "text/x-python",
   "name": "python",
   "nbconvert_exporter": "python",
   "pygments_lexer": "ipython3",
   "version": "3.7.6"
  }
 },
 "nbformat": 4,
 "nbformat_minor": 4
}
