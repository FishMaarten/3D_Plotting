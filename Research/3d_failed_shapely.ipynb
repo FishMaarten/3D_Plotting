{
 "cells": [
  {
   "cell_type": "code",
   "execution_count": 7,
   "metadata": {},
   "outputs": [],
   "source": [
    "import numpy as np\n",
    "import matplotlib.pyplot as plt\n",
    "from mpl_toolkits import mplot3d\n",
    "from shapely.geometry import Polygon\n",
    "from rasterio.plot import show\n",
    "from descartes import PolygonPatch"
   ]
  },
  {
   "cell_type": "markdown",
   "metadata": {},
   "source": [
    "# Plotting basic polygon"
   ]
  },
  {
   "cell_type": "code",
   "execution_count": 8,
   "metadata": {},
   "outputs": [
    {
     "data": {
      "image/png": "[encoded data removed]",
      "text/plain": [
       "<Figure size 180x180 with 1 Axes>"
      ]
     },
     "metadata": {
      "needs_background": "light"
     },
     "output_type": "display_data"
    }
   ],
   "source": [
    "poly = Polygon([(.1,.1),(.9,.1),(.9,.9),(.1,.9),(.1,.1)])\n",
    "x,y = poly.exterior.xy\n",
    "fig = plt.figure(1, figsize=(2,2), dpi=90)\n",
    "ax = plt.subplot(111)\n",
    "ring_patch = PolygonPatch(poly)\n",
    "ax.add_patch(ring_patch)\n",
    "ax.set_aspect(1)"
   ]
  },
  {
   "cell_type": "markdown",
   "metadata": {},
   "source": [
    "# Classes to support 3D modeling"
   ]
  },
  {
   "cell_type": "code",
   "execution_count": 9,
   "metadata": {},
   "outputs": [],
   "source": [
    "class Vert:\n",
    "    def __init__(self, x:float, y:float, z:float=0):\n",
    "        self.x,self.y,self.z = x, y, z\n",
    "    def __str__(self):\n",
    "        return f\"x:{self.x} y:{self.y} z:{self.z}\"\n",
    "    def get_xy(self):\n",
    "        return (self.x, self.y)"
   ]
  },
  {
   "cell_type": "code",
   "execution_count": 11,
   "metadata": {},
   "outputs": [],
   "source": [
    "class Face(Polygon):\n",
    "    def __init__(self, verts:[Vert]):\n",
    "        super(Face, self).__init__(list(map(lambda lam:lam.get_xy(), verts[:]+verts[:1])))\n",
    "        self.verts = verts\n",
    "    def patch(self) -> PolygonPatch:\n",
    "        return PolygonPatch(super())"
   ]
  },
  {
   "cell_type": "code",
   "execution_count": 12,
   "metadata": {},
   "outputs": [],
   "source": [
    "verts = [Vert(.1,.1), Vert(.9,.1), Vert(.9,.9), Vert(.1,.9)]\n",
    "face = Face(verts)"
   ]
  },
  {
   "cell_type": "markdown",
   "metadata": {},
   "source": [
    "# Plotting faces "
   ]
  },
  {
   "cell_type": "code",
   "execution_count": 13,
   "metadata": {},
   "outputs": [
    {
     "data": {
      "text/plain": [
       "<matplotlib.patches.PathPatch at 0x7f9ad87658d0>"
      ]
     },
     "execution_count": 13,
     "metadata": {},
     "output_type": "execute_result"
    },
    {
     "data": {
      "image/png": "[encoded data removed]",
      "text/plain": [
       "<Figure size 180x180 with 1 Axes>"
      ]
     },
     "metadata": {
      "needs_background": "light"
     },
     "output_type": "display_data"
    }
   ],
   "source": [
    "fig = plt.figure(1, figsize=(2,2), dpi=90)\n",
    "ax = fig.add_subplot(111)\n",
    "ax.add_patch(face.patch())"
   ]
  },
  {
   "cell_type": "markdown",
   "metadata": {},
   "source": [
    "# Rectangle and square"
   ]
  },
  {
   "cell_type": "code",
   "execution_count": 23,
   "metadata": {},
   "outputs": [
    {
     "data": {
      "text/plain": [
       "<matplotlib.patches.PathPatch at 0x7f9ad8533cd0>"
      ]
     },
     "execution_count": 23,
     "metadata": {},
     "output_type": "execute_result"
    },
    {
     "data": {
      "image/png": "[encoded data removed]",
      "text/plain": [
       "<Figure size 144x144 with 1 Axes>"
      ]
     },
     "metadata": {
      "needs_background": "light"
     },
     "output_type": "display_data"
    }
   ],
   "source": [
    "class Rectangle(Face):\n",
    "    def __init__(self, width:float, height:float, origin=(.0,.0)):\n",
    "        super(Rectangle, self).__init__([\n",
    "            Vert(origin[0]-width/2, origin[1]-height/2),\n",
    "            Vert(origin[0]+width/2, origin[1]-height/2),\n",
    "            Vert(origin[0]+width/2, origin[1]+height/2),\n",
    "            Vert(origin[0]-width/2, origin[1]+height/2),\n",
    "        ])\n",
    "\n",
    "class Square(Rectangle):\n",
    "    def __init__(self, width:float, origin=(.0,.0)):\n",
    "        super(Square, self).__init__(width,width,origin)\n",
    "        \n",
    "sqr = Rectangle(.2,.5, (.5,.5))\n",
    "fig = plt.figure(1, figsize=(2,2))\n",
    "ax = fig.add_subplot(111)\n",
    "ax.add_patch(sqr.patch())"
   ]
  },
  {
   "cell_type": "markdown",
   "metadata": {},
   "source": [
    "### At this point I realized shapely doesn't support z-axis"
   ]
  }
 ],
 "metadata": {
  "kernelspec": {
   "display_name": "Python 3",
   "language": "python",
   "name": "python3"
  },
  "language_info": {
   "codemirror_mode": {
    "name": "ipython",
    "version": 3
   },
   "file_extension": ".py",
   "mimetype": "text/x-python",
   "name": "python",
   "nbconvert_exporter": "python",
   "pygments_lexer": "ipython3",
   "version": "3.7.6"
  }
 },
 "nbformat": 4,
 "nbformat_minor": 4
}
