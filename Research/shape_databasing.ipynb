{
 "cells": [
  {
   "cell_type": "code",
   "execution_count": 1,
   "metadata": {},
   "outputs": [],
   "source": [
    "import os\n",
    "import re\n",
    "import struct\n",
    "import requests\n",
    "import numpy as np\n",
    "import pandas as pd\n",
    "import geopandas as gpd\n",
    "from geopandas import GeoDataFrame\n",
    "from program import Box\n",
    "import rasterio as rio\n",
    "from rasterio.plot import show\n",
    "from shapely.geometry import Polygon\n",
    "from shapely.geometry import MultiPolygon\n",
    "from dependencies import Box, GeoTIFF"
   ]
  },
  {
   "cell_type": "code",
   "execution_count": 2,
   "metadata": {},
   "outputs": [],
   "source": [
    "def get_shape_bounds(shp_file:str) -> (float):\n",
    "    with open(shp_file, 'rb') as f:\n",
    "        bound_bytes = f.read()[36:68]    \n",
    "        return Box(None,\n",
    "            int(struct.unpack(\"d\", bound_bytes[:8])[0]),\n",
    "            int(struct.unpack(\"d\", bound_bytes[8:16])[0]),\n",
    "            int(struct.unpack(\"d\", bound_bytes[16:24])[0]),\n",
    "            int(struct.unpack(\"d\", bound_bytes[24:32])[0]))"
   ]
  },
  {
   "cell_type": "code",
   "execution_count": 3,
   "metadata": {},
   "outputs": [],
   "source": [
    "shape_bounds = {}\n",
    "shape_dir = \"./Shapes/\"\n",
    "shape_types = [\"Bpn_CaBl\",\"Bpn_CaBu\",\"Bpn_ReBu\"]\n",
    "for province in os.listdir(shape_dir):\n",
    "    shape_bounds[province] = {}\n",
    "    province_dir = shape_dir +province +\"/\"\n",
    "    if os.path.isdir(province_dir):\n",
    "        place_list = os.listdir(province_dir)\n",
    "        place_list.sort()\n",
    "        for place in place_list:\n",
    "            shape_bounds[province][place] = {}\n",
    "            place_dir = province_dir +place +\"/\"\n",
    "            file_list = os.listdir(place_dir)\n",
    "            for shape_file in shape_types:\n",
    "                file_path = place_dir +shape_file +\".shp\"\n",
    "                bounds = get_shape_bounds(file_path) if shape_file +\".shp\" in file_list else np.nan\n",
    "                shape_bounds[province][place][shape_file] = bounds"
   ]
  },
  {
   "cell_type": "markdown",
   "metadata": {},
   "source": [
    "## Creates shape_lookup.csv"
   ]
  },
  {
   "cell_type": "code",
   "execution_count": 4,
   "metadata": {},
   "outputs": [],
   "source": [
    "shape_lookup = pd.DataFrame(columns = [\"Place\",\"Province\",\"CaBl\",\"CaBu\",\"ReBu\"])\n",
    "for province, places in shape_bounds.items():\n",
    "    for place, bounds in places.items():\n",
    "        shape_lookup = shape_lookup.append({\n",
    "            \"Place\": place,\n",
    "            \"Province\": province,\n",
    "            \"CaBl\": repr(bounds[\"Bpn_CaBl\"]),\n",
    "            \"CaBu\": repr(bounds[\"Bpn_CaBu\"]),\n",
    "            \"ReBu\": repr(bounds[\"Bpn_ReBu\"])},\n",
    "        ignore_index=True, sort = False)\n",
    "shape_lookup.to_csv(\"./Shapes/shape_lookup.csv\", index=False, sep=\"|\") "
   ]
  },
  {
   "cell_type": "code",
   "execution_count": 2,
   "metadata": {},
   "outputs": [
    {
     "data": {
      "text/html": [
       "<div>\n",
       "<style scoped>\n",
       "    .dataframe tbody tr th:only-of-type {\n",
       "        vertical-align: middle;\n",
       "    }\n",
       "\n",
       "    .dataframe tbody tr th {\n",
       "        vertical-align: top;\n",
       "    }\n",
       "\n",
       "    .dataframe thead th {\n",
       "        text-align: right;\n",
       "    }\n",
       "</style>\n",
       "<table border=\"1\" class=\"dataframe\">\n",
       "  <thead>\n",
       "    <tr style=\"text-align: right;\">\n",
       "      <th></th>\n",
       "      <th>Place</th>\n",
       "      <th>Province</th>\n",
       "      <th>CaBl</th>\n",
       "      <th>CaBu</th>\n",
       "      <th>ReBu</th>\n",
       "    </tr>\n",
       "  </thead>\n",
       "  <tbody>\n",
       "    <tr>\n",
       "      <th>0</th>\n",
       "      <td>Aartselaar</td>\n",
       "      <td>Antwerpen</td>\n",
       "      <td>148952 199943 152798 204560 3846 4617</td>\n",
       "      <td>NaN</td>\n",
       "      <td>148977 199945 152668 204502 3691 4557</td>\n",
       "    </tr>\n",
       "    <tr>\n",
       "      <th>1</th>\n",
       "      <td>Antwerpen</td>\n",
       "      <td>Antwerpen</td>\n",
       "      <td>141272 203701 159026 229767 17754 26066</td>\n",
       "      <td>147923 207345 157827 214886 9904 7541</td>\n",
       "      <td>141490 203963 159013 229762 17523 25799</td>\n",
       "    </tr>\n",
       "    <tr>\n",
       "      <th>2</th>\n",
       "      <td>Arendonk</td>\n",
       "      <td>Antwerpen</td>\n",
       "      <td>196056 220435 203829 231746 7773 11311</td>\n",
       "      <td>199191 223404 199229 223445 38 41</td>\n",
       "      <td>196127 220782 203647 230679 7520 9897</td>\n",
       "    </tr>\n",
       "    <tr>\n",
       "      <th>3</th>\n",
       "      <td>Baarle-Hertog</td>\n",
       "      <td>Antwerpen</td>\n",
       "      <td>181838 231590 190598 238597 8760 7007</td>\n",
       "      <td>NaN</td>\n",
       "      <td>185124 231843 190564 238099 5440 6256</td>\n",
       "    </tr>\n",
       "    <tr>\n",
       "      <th>4</th>\n",
       "      <td>Balen</td>\n",
       "      <td>Antwerpen</td>\n",
       "      <td>200382 200958 212516 211611 12134 10653</td>\n",
       "      <td>200416 201263 212499 211232 12083 9969</td>\n",
       "      <td>206625 208293 206633 208299 8 6</td>\n",
       "    </tr>\n",
       "    <tr>\n",
       "      <th>...</th>\n",
       "      <td>...</td>\n",
       "      <td>...</td>\n",
       "      <td>...</td>\n",
       "      <td>...</td>\n",
       "      <td>...</td>\n",
       "    </tr>\n",
       "    <tr>\n",
       "      <th>277</th>\n",
       "      <td>Tongeren</td>\n",
       "      <td>Limburg</td>\n",
       "      <td>221970 157179 233540 168608 11570 11429</td>\n",
       "      <td>222304 158069 232851 168119 10547 10050</td>\n",
       "      <td>NaN</td>\n",
       "    </tr>\n",
       "    <tr>\n",
       "      <th>278</th>\n",
       "      <td>Voeren</td>\n",
       "      <td>Limburg</td>\n",
       "      <td>242765 156601 258866 164578 16101 7977</td>\n",
       "      <td>NaN</td>\n",
       "      <td>242912 156684 258459 164565 15547 7881</td>\n",
       "    </tr>\n",
       "    <tr>\n",
       "      <th>279</th>\n",
       "      <td>Wellen</td>\n",
       "      <td>Limburg</td>\n",
       "      <td>213099 167240 220675 173475 7576 6235</td>\n",
       "      <td>213365 167260 220323 173403 6958 6143</td>\n",
       "      <td>NaN</td>\n",
       "    </tr>\n",
       "    <tr>\n",
       "      <th>280</th>\n",
       "      <td>Zonhoven</td>\n",
       "      <td>Limburg</td>\n",
       "      <td>215448 184079 226967 189616 11519 5537</td>\n",
       "      <td>NaN</td>\n",
       "      <td>215610 184086 224973 189593 9363 5507</td>\n",
       "    </tr>\n",
       "    <tr>\n",
       "      <th>281</th>\n",
       "      <td>Zutendaal</td>\n",
       "      <td>Limburg</td>\n",
       "      <td>231531 176799 237559 185937 6028 9138</td>\n",
       "      <td>231736 177203 237368 184422 5632 7219</td>\n",
       "      <td>NaN</td>\n",
       "    </tr>\n",
       "  </tbody>\n",
       "</table>\n",
       "<p>282 rows × 5 columns</p>\n",
       "</div>"
      ],
      "text/plain": [
       "             Place   Province                                     CaBl  \\\n",
       "0       Aartselaar  Antwerpen    148952 199943 152798 204560 3846 4617   \n",
       "1        Antwerpen  Antwerpen  141272 203701 159026 229767 17754 26066   \n",
       "2         Arendonk  Antwerpen   196056 220435 203829 231746 7773 11311   \n",
       "3    Baarle-Hertog  Antwerpen    181838 231590 190598 238597 8760 7007   \n",
       "4            Balen  Antwerpen  200382 200958 212516 211611 12134 10653   \n",
       "..             ...        ...                                      ...   \n",
       "277       Tongeren    Limburg  221970 157179 233540 168608 11570 11429   \n",
       "278         Voeren    Limburg   242765 156601 258866 164578 16101 7977   \n",
       "279         Wellen    Limburg    213099 167240 220675 173475 7576 6235   \n",
       "280       Zonhoven    Limburg   215448 184079 226967 189616 11519 5537   \n",
       "281      Zutendaal    Limburg    231531 176799 237559 185937 6028 9138   \n",
       "\n",
       "                                        CaBu  \\\n",
       "0                                        NaN   \n",
       "1      147923 207345 157827 214886 9904 7541   \n",
       "2          199191 223404 199229 223445 38 41   \n",
       "3                                        NaN   \n",
       "4     200416 201263 212499 211232 12083 9969   \n",
       "..                                       ...   \n",
       "277  222304 158069 232851 168119 10547 10050   \n",
       "278                                      NaN   \n",
       "279    213365 167260 220323 173403 6958 6143   \n",
       "280                                      NaN   \n",
       "281    231736 177203 237368 184422 5632 7219   \n",
       "\n",
       "                                        ReBu  \n",
       "0      148977 199945 152668 204502 3691 4557  \n",
       "1    141490 203963 159013 229762 17523 25799  \n",
       "2      196127 220782 203647 230679 7520 9897  \n",
       "3      185124 231843 190564 238099 5440 6256  \n",
       "4            206625 208293 206633 208299 8 6  \n",
       "..                                       ...  \n",
       "277                                      NaN  \n",
       "278   242912 156684 258459 164565 15547 7881  \n",
       "279                                      NaN  \n",
       "280    215610 184086 224973 189593 9363 5507  \n",
       "281                                      NaN  \n",
       "\n",
       "[282 rows x 5 columns]"
      ]
     },
     "execution_count": 2,
     "metadata": {},
     "output_type": "execute_result"
    }
   ],
   "source": [
    "shape_lookup = pd.read_csv(\"./Shapes/shape_lookup.csv\", sep=\"|\")\n",
    "shape_lookup"
   ]
  },
  {
   "cell_type": "code",
   "execution_count": 6,
   "metadata": {},
   "outputs": [
    {
     "data": {
      "text/html": [
       "<div>\n",
       "<style scoped>\n",
       "    .dataframe tbody tr th:only-of-type {\n",
       "        vertical-align: middle;\n",
       "    }\n",
       "\n",
       "    .dataframe tbody tr th {\n",
       "        vertical-align: top;\n",
       "    }\n",
       "\n",
       "    .dataframe thead th {\n",
       "        text-align: right;\n",
       "    }\n",
       "</style>\n",
       "<table border=\"1\" class=\"dataframe\">\n",
       "  <thead>\n",
       "    <tr style=\"text-align: right;\">\n",
       "      <th></th>\n",
       "      <th>142</th>\n",
       "    </tr>\n",
       "  </thead>\n",
       "  <tbody>\n",
       "    <tr>\n",
       "      <th>Place</th>\n",
       "      <td>Herne</td>\n",
       "    </tr>\n",
       "    <tr>\n",
       "      <th>Province</th>\n",
       "      <td>Vlaams-Brabant</td>\n",
       "    </tr>\n",
       "    <tr>\n",
       "      <th>CaBl</th>\n",
       "      <td>121040 153059 132184 160887 11144 7828</td>\n",
       "    </tr>\n",
       "    <tr>\n",
       "      <th>CaBu</th>\n",
       "      <td>121297 153349 131781 160853 10484 7504</td>\n",
       "    </tr>\n",
       "    <tr>\n",
       "      <th>ReBu</th>\n",
       "      <td>NaN</td>\n",
       "    </tr>\n",
       "  </tbody>\n",
       "</table>\n",
       "</div>"
      ],
      "text/plain": [
       "                                             142\n",
       "Place                                      Herne\n",
       "Province                          Vlaams-Brabant\n",
       "CaBl      121040 153059 132184 160887 11144 7828\n",
       "CaBu      121297 153349 131781 160853 10484 7504\n",
       "ReBu                                         NaN"
      ]
     },
     "execution_count": 6,
     "metadata": {},
     "output_type": "execute_result"
    }
   ],
   "source": [
    "shape_lookup[shape_lookup.CaBl == min(shape_lookup.CaBl, key=lambda x: Box.from_string(x).bottom)].T"
   ]
  },
  {
   "cell_type": "markdown",
   "metadata": {},
   "source": [
    "### Fix data_lookup ./Data/ prefix"
   ]
  },
  {
   "cell_type": "code",
   "execution_count": 7,
   "metadata": {},
   "outputs": [],
   "source": [
    "data_lookup = pd.read_csv(\"./Data/data_lookup.csv.ori\", sep=\"|\")\n",
    "# Prefixes ./Data/\n",
    "data_lookup.DSM = data_lookup.DSM.apply(lambda x: \"/media/becode/3D_House/Data\"+ x[1:] if pd.notnull(x) else x)\n",
    "data_lookup.to_csv(\"./Data/data_lookup.csv\", index=False, sep=\"|\")"
   ]
  },
  {
   "cell_type": "markdown",
   "metadata": {},
   "source": [
    "## Load data_lookup"
   ]
  },
  {
   "cell_type": "code",
   "execution_count": 4,
   "metadata": {},
   "outputs": [
    {
     "data": {
      "text/html": [
       "<div>\n",
       "<style scoped>\n",
       "    .dataframe tbody tr th:only-of-type {\n",
       "        vertical-align: middle;\n",
       "    }\n",
       "\n",
       "    .dataframe tbody tr th {\n",
       "        vertical-align: top;\n",
       "    }\n",
       "\n",
       "    .dataframe thead th {\n",
       "        text-align: right;\n",
       "    }\n",
       "</style>\n",
       "<table border=\"1\" class=\"dataframe\">\n",
       "  <thead>\n",
       "    <tr style=\"text-align: right;\">\n",
       "      <th></th>\n",
       "      <th>ROOT</th>\n",
       "      <th>PATH</th>\n",
       "      <th>BOX</th>\n",
       "      <th>DSM</th>\n",
       "      <th>DTM</th>\n",
       "      <th>SHP</th>\n",
       "    </tr>\n",
       "  </thead>\n",
       "  <tbody>\n",
       "    <tr>\n",
       "      <th>0</th>\n",
       "      <td>k01</td>\n",
       "      <td>ROOT</td>\n",
       "      <td>145000 238000 162000 247000 17000 9000</td>\n",
       "      <td>NaN</td>\n",
       "      <td>NaN</td>\n",
       "      <td>NaN</td>\n",
       "    </tr>\n",
       "    <tr>\n",
       "      <th>1</th>\n",
       "      <td>k01</td>\n",
       "      <td>0_0_0_0_0</td>\n",
       "      <td>145000 246719 145531 247000 531 281</td>\n",
       "      <td>/media/becode/3D_House/Data/k01/0_0_0_0_0/DSM.tif</td>\n",
       "      <td>/media/becode/3D_House/Data/k01/0_0_0_0_0/DTM.tif</td>\n",
       "      <td>NaN</td>\n",
       "    </tr>\n",
       "    <tr>\n",
       "      <th>2</th>\n",
       "      <td>k01</td>\n",
       "      <td>0_0_0_0_1</td>\n",
       "      <td>145531 246719 146062 247000 531 281</td>\n",
       "      <td>/media/becode/3D_House/Data/k01/0_0_0_0_1/DSM.tif</td>\n",
       "      <td>/media/becode/3D_House/Data/k01/0_0_0_0_1/DTM.tif</td>\n",
       "      <td>NaN</td>\n",
       "    </tr>\n",
       "    <tr>\n",
       "      <th>3</th>\n",
       "      <td>k01</td>\n",
       "      <td>0_0_0_0_2</td>\n",
       "      <td>145000 246438 145531 246719 531 281</td>\n",
       "      <td>/media/becode/3D_House/Data/k01/0_0_0_0_2/DSM.tif</td>\n",
       "      <td>/media/becode/3D_House/Data/k01/0_0_0_0_2/DTM.tif</td>\n",
       "      <td>NaN</td>\n",
       "    </tr>\n",
       "    <tr>\n",
       "      <th>4</th>\n",
       "      <td>k01</td>\n",
       "      <td>0_0_0_0_3</td>\n",
       "      <td>145531 246438 146062 246719 531 281</td>\n",
       "      <td>/media/becode/3D_House/Data/k01/0_0_0_0_3/DSM.tif</td>\n",
       "      <td>/media/becode/3D_House/Data/k01/0_0_0_0_3/DTM.tif</td>\n",
       "      <td>NaN</td>\n",
       "    </tr>\n",
       "    <tr>\n",
       "      <th>...</th>\n",
       "      <td>...</td>\n",
       "      <td>...</td>\n",
       "      <td>...</td>\n",
       "      <td>...</td>\n",
       "      <td>...</td>\n",
       "      <td>...</td>\n",
       "    </tr>\n",
       "    <tr>\n",
       "      <th>44070</th>\n",
       "      <td>k43</td>\n",
       "      <td>3_3_3_2_3</td>\n",
       "      <td>263437 151001 263624 151219 187 218</td>\n",
       "      <td>/media/becode/3D_House/Data/k43/3_3_3_2_3/DSM.tif</td>\n",
       "      <td>/media/becode/3D_House/Data/k43/3_3_3_2_3/DTM.tif</td>\n",
       "      <td>NaN</td>\n",
       "    </tr>\n",
       "    <tr>\n",
       "      <th>44071</th>\n",
       "      <td>k43</td>\n",
       "      <td>3_3_3_3_0</td>\n",
       "      <td>263625 151219 263812 151437 187 218</td>\n",
       "      <td>/media/becode/3D_House/Data/k43/3_3_3_3_0/DSM.tif</td>\n",
       "      <td>/media/becode/3D_House/Data/k43/3_3_3_3_0/DTM.tif</td>\n",
       "      <td>NaN</td>\n",
       "    </tr>\n",
       "    <tr>\n",
       "      <th>44072</th>\n",
       "      <td>k43</td>\n",
       "      <td>3_3_3_3_1</td>\n",
       "      <td>263812 151219 263999 151437 187 218</td>\n",
       "      <td>/media/becode/3D_House/Data/k43/3_3_3_3_1/DSM.tif</td>\n",
       "      <td>/media/becode/3D_House/Data/k43/3_3_3_3_1/DTM.tif</td>\n",
       "      <td>NaN</td>\n",
       "    </tr>\n",
       "    <tr>\n",
       "      <th>44073</th>\n",
       "      <td>k43</td>\n",
       "      <td>3_3_3_3_2</td>\n",
       "      <td>263625 151001 263812 151219 187 218</td>\n",
       "      <td>/media/becode/3D_House/Data/k43/3_3_3_3_2/DSM.tif</td>\n",
       "      <td>/media/becode/3D_House/Data/k43/3_3_3_3_2/DTM.tif</td>\n",
       "      <td>NaN</td>\n",
       "    </tr>\n",
       "    <tr>\n",
       "      <th>44074</th>\n",
       "      <td>k43</td>\n",
       "      <td>3_3_3_3_3</td>\n",
       "      <td>263812 151001 263999 151219 187 218</td>\n",
       "      <td>/media/becode/3D_House/Data/k43/3_3_3_3_3/DSM.tif</td>\n",
       "      <td>/media/becode/3D_House/Data/k43/3_3_3_3_3/DTM.tif</td>\n",
       "      <td>NaN</td>\n",
       "    </tr>\n",
       "  </tbody>\n",
       "</table>\n",
       "<p>44075 rows × 6 columns</p>\n",
       "</div>"
      ],
      "text/plain": [
       "      ROOT       PATH                                     BOX  \\\n",
       "0      k01       ROOT  145000 238000 162000 247000 17000 9000   \n",
       "1      k01  0_0_0_0_0     145000 246719 145531 247000 531 281   \n",
       "2      k01  0_0_0_0_1     145531 246719 146062 247000 531 281   \n",
       "3      k01  0_0_0_0_2     145000 246438 145531 246719 531 281   \n",
       "4      k01  0_0_0_0_3     145531 246438 146062 246719 531 281   \n",
       "...    ...        ...                                     ...   \n",
       "44070  k43  3_3_3_2_3     263437 151001 263624 151219 187 218   \n",
       "44071  k43  3_3_3_3_0     263625 151219 263812 151437 187 218   \n",
       "44072  k43  3_3_3_3_1     263812 151219 263999 151437 187 218   \n",
       "44073  k43  3_3_3_3_2     263625 151001 263812 151219 187 218   \n",
       "44074  k43  3_3_3_3_3     263812 151001 263999 151219 187 218   \n",
       "\n",
       "                                                     DSM  \\\n",
       "0                                                    NaN   \n",
       "1      /media/becode/3D_House/Data/k01/0_0_0_0_0/DSM.tif   \n",
       "2      /media/becode/3D_House/Data/k01/0_0_0_0_1/DSM.tif   \n",
       "3      /media/becode/3D_House/Data/k01/0_0_0_0_2/DSM.tif   \n",
       "4      /media/becode/3D_House/Data/k01/0_0_0_0_3/DSM.tif   \n",
       "...                                                  ...   \n",
       "44070  /media/becode/3D_House/Data/k43/3_3_3_2_3/DSM.tif   \n",
       "44071  /media/becode/3D_House/Data/k43/3_3_3_3_0/DSM.tif   \n",
       "44072  /media/becode/3D_House/Data/k43/3_3_3_3_1/DSM.tif   \n",
       "44073  /media/becode/3D_House/Data/k43/3_3_3_3_2/DSM.tif   \n",
       "44074  /media/becode/3D_House/Data/k43/3_3_3_3_3/DSM.tif   \n",
       "\n",
       "                                                     DTM  SHP  \n",
       "0                                                    NaN  NaN  \n",
       "1      /media/becode/3D_House/Data/k01/0_0_0_0_0/DTM.tif  NaN  \n",
       "2      /media/becode/3D_House/Data/k01/0_0_0_0_1/DTM.tif  NaN  \n",
       "3      /media/becode/3D_House/Data/k01/0_0_0_0_2/DTM.tif  NaN  \n",
       "4      /media/becode/3D_House/Data/k01/0_0_0_0_3/DTM.tif  NaN  \n",
       "...                                                  ...  ...  \n",
       "44070  /media/becode/3D_House/Data/k43/3_3_3_2_3/DTM.tif  NaN  \n",
       "44071  /media/becode/3D_House/Data/k43/3_3_3_3_0/DTM.tif  NaN  \n",
       "44072  /media/becode/3D_House/Data/k43/3_3_3_3_1/DTM.tif  NaN  \n",
       "44073  /media/becode/3D_House/Data/k43/3_3_3_3_2/DTM.tif  NaN  \n",
       "44074  /media/becode/3D_House/Data/k43/3_3_3_3_3/DTM.tif  NaN  \n",
       "\n",
       "[44075 rows x 6 columns]"
      ]
     },
     "execution_count": 4,
     "metadata": {},
     "output_type": "execute_result"
    }
   ],
   "source": [
    "data_lookup = pd.read_csv(\"./Data/data_lookup.csv\", sep=\"|\")\n",
    "data_lookup"
   ]
  },
  {
   "cell_type": "code",
   "execution_count": 49,
   "metadata": {},
   "outputs": [],
   "source": [
    "class StitchedBounds:\n",
    "    def __init__(self, tifs=[], shapes=[]):\n",
    "        self.tifs = tifs\n",
    "        self.shapes = shapes\n",
    "        \n",
    "def center(poly:Polygon):\n",
    "    return(int(poly.bounds[0]+poly.bounds[2]-poly.bounds[0]),\n",
    "           int(poly.bounds[1]+poly.bounds[3]-poly.bounds[1]))\n",
    "\n",
    "def get_shapes_in_box(gdf: GeoDataFrame, box: Box) -> GeoDataFrame:\n",
    "    return gdf[gdf.geometry.apply(\n",
    "        lambda d: box.contains_point(\n",
    "            x = center(Polygon(d))[0],\n",
    "            y = center(Polygon(d))[1])\n",
    "        if type(d) != MultiPolygon else False)]\n",
    "\n",
    "def get_containing_shape_file(tif_box:Box, file_type:str):\n",
    "    entry = shape_lookup[shape_lookup[file_type].apply(\n",
    "        lambda x: Box.from_string(x).contains_box(tif_box) if pd.notnull(x) else False)]\n",
    "    if entry.empty: return False\n",
    "    return gpd.read_file(f\"./Shapes/{entry.Province.values[0]}/{entry.Place.values[0]}/Bpn_{file_type}.shp\")"
   ]
  },
  {
   "cell_type": "markdown",
   "metadata": {},
   "source": [
    "## Get shapes in tif bounds"
   ]
  },
  {
   "cell_type": "code",
   "execution_count": 12,
   "metadata": {},
   "outputs": [
    {
     "data": {
      "image/png": "[encoded data removed]",
      "text/plain": [
       "<Figure size 432x288 with 1 Axes>"
      ]
     },
     "metadata": {
      "needs_background": "light"
     },
     "output_type": "display_data"
    },
    {
     "data": {
      "text/plain": [
       "<matplotlib.axes._subplots.AxesSubplot at 0x7fcfd070a810>"
      ]
     },
     "execution_count": 12,
     "metadata": {},
     "output_type": "execute_result"
    }
   ],
   "source": [
    "tif = GeoTIFF(data_lookup[(data_lookup.ROOT == \"k23\")\n",
    "            &(data_lookup.PATH == \"1_1_0_1_1\")].DSM.values[0])\n",
    "shape_file = get_containing_shape_file(tif.box, \"CaBu\")\n",
    "get_shapes_in_box(shape_file, tif.box).plot()\n",
    "tif.show()"
   ]
  },
  {
   "cell_type": "markdown",
   "metadata": {},
   "source": [
    "## Get shapes in crop box"
   ]
  },
  {
   "cell_type": "code",
   "execution_count": 13,
   "metadata": {},
   "outputs": [
    {
     "name": "stdout",
     "output_type": "stream",
     "text": [
      "Address : Bosstraat 45 Duffel\n",
      "Crop size: 100\n"
     ]
    },
    {
     "data": {
      "image/png": "[encoded data removed]",
      "text/plain": [
       "<Figure size 432x288 with 1 Axes>"
      ]
     },
     "metadata": {
      "needs_background": "light"
     },
     "output_type": "display_data"
    },
    {
     "data": {
      "text/plain": [
       "<matplotlib.axes._subplots.AxesSubplot at 0x7fcfc3712a50>"
      ]
     },
     "execution_count": 13,
     "metadata": {},
     "output_type": "execute_result"
    }
   ],
   "source": [
    "def get_lambert(address:str) -> (int,int):\n",
    "    req = requests.get(f\"http://loc.geopunt.be/geolocation/location?q={address}&c=1\")\n",
    "    return (req.json()[\"LocationResult\"][0][\"Location\"][\"X_Lambert72\"],\n",
    "            req.json()[\"LocationResult\"][0][\"Location\"][\"Y_Lambert72\"])\n",
    "x, y = get_lambert(input(\"Address : \"))\n",
    "size = int(input(\"Crop size: \"))\n",
    "\n",
    "tif = GeoTIFF.get_containing_tif(x, y, size)\n",
    "crop = tif.crop_location(x, y, size)\n",
    "shape_file = get_containing_shape_file(crop.box, \"CaBu\")\n",
    "get_shapes_in_box(shape_file, crop.box).plot()\n",
    "crop.show()"
   ]
  },
  {
   "cell_type": "markdown",
   "metadata": {},
   "source": [
    "## Get root and sub path for location\n",
    "I did some optimizing here by timing the old and new method"
   ]
  },
  {
   "cell_type": "code",
   "execution_count": 47,
   "metadata": {
    "scrolled": false
   },
   "outputs": [
    {
     "name": "stdout",
     "output_type": "stream",
     "text": [
      "Address : Bosstraat 45 Duffel\n",
      "k23\n",
      "1_1_0_1_1\n",
      "took : 0.014 seconds\n"
     ]
    }
   ],
   "source": [
    "import time\n",
    "import requests\n",
    "import matplotlib.pyplot as plt\n",
    "from dependencies import Box, GeoTIFF\n",
    "def get_lambert(address:str) -> (int,int):\n",
    "    req = requests.get(f\"http://loc.geopunt.be/geolocation/location?q={address}&c=1\")\n",
    "    return (req.json()[\"LocationResult\"][0][\"Location\"][\"X_Lambert72\"],\n",
    "            req.json()[\"LocationResult\"][0][\"Location\"][\"Y_Lambert72\"])\n",
    "x, y = get_lambert(input(\"Address : \"))\n",
    "\n",
    "print(GeoTIFF.get_root_from_point(x, y))\n",
    "print(GeoTIFF.get_sub_from_point(x, y))\n",
    "start = time.time()\n",
    "tif = GeoTIFF.get_tif_from_point(x, y)\n",
    "print(f\"took : {round(time.time() -start ,3)} seconds\")"
   ]
  },
  {
   "cell_type": "markdown",
   "metadata": {},
   "source": [
    "**Bosstraat Duffel: K23/1_1_0_1_1**  \n",
    "**Spoorweglei Sint-Kat: K23/1_1_3_2_0**  \n",
    "**Molenstraat Sint-Kat: K24/0_0_2_1_3**  \n",
    "**Beacon Antwerpen: K15/1_2_1_1_0**  "
   ]
  },
  {
   "cell_type": "markdown",
   "metadata": {},
   "source": [
    "## Crunch the shape files"
   ]
  },
  {
   "cell_type": "code",
   "execution_count": 37,
   "metadata": {},
   "outputs": [
    {
     "data": {
      "text/html": [
       "<div>\n",
       "<style scoped>\n",
       "    .dataframe tbody tr th:only-of-type {\n",
       "        vertical-align: middle;\n",
       "    }\n",
       "\n",
       "    .dataframe tbody tr th {\n",
       "        vertical-align: top;\n",
       "    }\n",
       "\n",
       "    .dataframe thead th {\n",
       "        text-align: right;\n",
       "    }\n",
       "</style>\n",
       "<table border=\"1\" class=\"dataframe\">\n",
       "  <thead>\n",
       "    <tr style=\"text-align: right;\">\n",
       "      <th></th>\n",
       "      <th>ROOT</th>\n",
       "      <th>PATH</th>\n",
       "      <th>BOX</th>\n",
       "      <th>DSM</th>\n",
       "      <th>DTM</th>\n",
       "      <th>SHP</th>\n",
       "    </tr>\n",
       "  </thead>\n",
       "  <tbody>\n",
       "    <tr>\n",
       "      <th>22550</th>\n",
       "      <td>k23</td>\n",
       "      <td>ROOT</td>\n",
       "      <td>130000 178000 162000 198000 32000 20000</td>\n",
       "      <td>NaN</td>\n",
       "      <td>NaN</td>\n",
       "      <td>NaN</td>\n",
       "    </tr>\n",
       "    <tr>\n",
       "      <th>22551</th>\n",
       "      <td>k23</td>\n",
       "      <td>0_0_0_0_0</td>\n",
       "      <td>130000 197375 131000 198000 1000 625</td>\n",
       "      <td>/media/becode/3D_House/Data/k23/0_0_0_0_0/DSM.tif</td>\n",
       "      <td>/media/becode/3D_House/Data/k23/0_0_0_0_0/DTM.tif</td>\n",
       "      <td>NaN</td>\n",
       "    </tr>\n",
       "    <tr>\n",
       "      <th>22552</th>\n",
       "      <td>k23</td>\n",
       "      <td>0_0_0_0_1</td>\n",
       "      <td>131000 197375 132000 198000 1000 625</td>\n",
       "      <td>/media/becode/3D_House/Data/k23/0_0_0_0_1/DSM.tif</td>\n",
       "      <td>/media/becode/3D_House/Data/k23/0_0_0_0_1/DTM.tif</td>\n",
       "      <td>NaN</td>\n",
       "    </tr>\n",
       "    <tr>\n",
       "      <th>22553</th>\n",
       "      <td>k23</td>\n",
       "      <td>0_0_0_0_2</td>\n",
       "      <td>130000 196750 131000 197375 1000 625</td>\n",
       "      <td>/media/becode/3D_House/Data/k23/0_0_0_0_2/DSM.tif</td>\n",
       "      <td>/media/becode/3D_House/Data/k23/0_0_0_0_2/DTM.tif</td>\n",
       "      <td>NaN</td>\n",
       "    </tr>\n",
       "    <tr>\n",
       "      <th>22554</th>\n",
       "      <td>k23</td>\n",
       "      <td>0_0_0_0_3</td>\n",
       "      <td>131000 196750 132000 197375 1000 625</td>\n",
       "      <td>/media/becode/3D_House/Data/k23/0_0_0_0_3/DSM.tif</td>\n",
       "      <td>/media/becode/3D_House/Data/k23/0_0_0_0_3/DTM.tif</td>\n",
       "      <td>NaN</td>\n",
       "    </tr>\n",
       "    <tr>\n",
       "      <th>...</th>\n",
       "      <td>...</td>\n",
       "      <td>...</td>\n",
       "      <td>...</td>\n",
       "      <td>...</td>\n",
       "      <td>...</td>\n",
       "      <td>...</td>\n",
       "    </tr>\n",
       "    <tr>\n",
       "      <th>23570</th>\n",
       "      <td>k23</td>\n",
       "      <td>3_3_3_2_3</td>\n",
       "      <td>159000 178000 160000 178625 1000 625</td>\n",
       "      <td>/media/becode/3D_House/Data/k23/3_3_3_2_3/DSM.tif</td>\n",
       "      <td>/media/becode/3D_House/Data/k23/3_3_3_2_3/DTM.tif</td>\n",
       "      <td>NaN</td>\n",
       "    </tr>\n",
       "    <tr>\n",
       "      <th>23571</th>\n",
       "      <td>k23</td>\n",
       "      <td>3_3_3_3_0</td>\n",
       "      <td>160000 178625 161000 179250 1000 625</td>\n",
       "      <td>/media/becode/3D_House/Data/k23/3_3_3_3_0/DSM.tif</td>\n",
       "      <td>/media/becode/3D_House/Data/k23/3_3_3_3_0/DTM.tif</td>\n",
       "      <td>NaN</td>\n",
       "    </tr>\n",
       "    <tr>\n",
       "      <th>23572</th>\n",
       "      <td>k23</td>\n",
       "      <td>3_3_3_3_1</td>\n",
       "      <td>161000 178625 162000 179250 1000 625</td>\n",
       "      <td>/media/becode/3D_House/Data/k23/3_3_3_3_1/DSM.tif</td>\n",
       "      <td>/media/becode/3D_House/Data/k23/3_3_3_3_1/DTM.tif</td>\n",
       "      <td>NaN</td>\n",
       "    </tr>\n",
       "    <tr>\n",
       "      <th>23573</th>\n",
       "      <td>k23</td>\n",
       "      <td>3_3_3_3_2</td>\n",
       "      <td>160000 178000 161000 178625 1000 625</td>\n",
       "      <td>/media/becode/3D_House/Data/k23/3_3_3_3_2/DSM.tif</td>\n",
       "      <td>/media/becode/3D_House/Data/k23/3_3_3_3_2/DTM.tif</td>\n",
       "      <td>NaN</td>\n",
       "    </tr>\n",
       "    <tr>\n",
       "      <th>23574</th>\n",
       "      <td>k23</td>\n",
       "      <td>3_3_3_3_3</td>\n",
       "      <td>161000 178000 162000 178625 1000 625</td>\n",
       "      <td>/media/becode/3D_House/Data/k23/3_3_3_3_3/DSM.tif</td>\n",
       "      <td>/media/becode/3D_House/Data/k23/3_3_3_3_3/DTM.tif</td>\n",
       "      <td>NaN</td>\n",
       "    </tr>\n",
       "  </tbody>\n",
       "</table>\n",
       "<p>1025 rows × 6 columns</p>\n",
       "</div>"
      ],
      "text/plain": [
       "      ROOT       PATH                                      BOX  \\\n",
       "22550  k23       ROOT  130000 178000 162000 198000 32000 20000   \n",
       "22551  k23  0_0_0_0_0     130000 197375 131000 198000 1000 625   \n",
       "22552  k23  0_0_0_0_1     131000 197375 132000 198000 1000 625   \n",
       "22553  k23  0_0_0_0_2     130000 196750 131000 197375 1000 625   \n",
       "22554  k23  0_0_0_0_3     131000 196750 132000 197375 1000 625   \n",
       "...    ...        ...                                      ...   \n",
       "23570  k23  3_3_3_2_3     159000 178000 160000 178625 1000 625   \n",
       "23571  k23  3_3_3_3_0     160000 178625 161000 179250 1000 625   \n",
       "23572  k23  3_3_3_3_1     161000 178625 162000 179250 1000 625   \n",
       "23573  k23  3_3_3_3_2     160000 178000 161000 178625 1000 625   \n",
       "23574  k23  3_3_3_3_3     161000 178000 162000 178625 1000 625   \n",
       "\n",
       "                                                     DSM  \\\n",
       "22550                                                NaN   \n",
       "22551  /media/becode/3D_House/Data/k23/0_0_0_0_0/DSM.tif   \n",
       "22552  /media/becode/3D_House/Data/k23/0_0_0_0_1/DSM.tif   \n",
       "22553  /media/becode/3D_House/Data/k23/0_0_0_0_2/DSM.tif   \n",
       "22554  /media/becode/3D_House/Data/k23/0_0_0_0_3/DSM.tif   \n",
       "...                                                  ...   \n",
       "23570  /media/becode/3D_House/Data/k23/3_3_3_2_3/DSM.tif   \n",
       "23571  /media/becode/3D_House/Data/k23/3_3_3_3_0/DSM.tif   \n",
       "23572  /media/becode/3D_House/Data/k23/3_3_3_3_1/DSM.tif   \n",
       "23573  /media/becode/3D_House/Data/k23/3_3_3_3_2/DSM.tif   \n",
       "23574  /media/becode/3D_House/Data/k23/3_3_3_3_3/DSM.tif   \n",
       "\n",
       "                                                     DTM  SHP  \n",
       "22550                                                NaN  NaN  \n",
       "22551  /media/becode/3D_House/Data/k23/0_0_0_0_0/DTM.tif  NaN  \n",
       "22552  /media/becode/3D_House/Data/k23/0_0_0_0_1/DTM.tif  NaN  \n",
       "22553  /media/becode/3D_House/Data/k23/0_0_0_0_2/DTM.tif  NaN  \n",
       "22554  /media/becode/3D_House/Data/k23/0_0_0_0_3/DTM.tif  NaN  \n",
       "...                                                  ...  ...  \n",
       "23570  /media/becode/3D_House/Data/k23/3_3_3_2_3/DTM.tif  NaN  \n",
       "23571  /media/becode/3D_House/Data/k23/3_3_3_3_0/DTM.tif  NaN  \n",
       "23572  /media/becode/3D_House/Data/k23/3_3_3_3_1/DTM.tif  NaN  \n",
       "23573  /media/becode/3D_House/Data/k23/3_3_3_3_2/DTM.tif  NaN  \n",
       "23574  /media/becode/3D_House/Data/k23/3_3_3_3_3/DTM.tif  NaN  \n",
       "\n",
       "[1025 rows x 6 columns]"
      ]
     },
     "execution_count": 37,
     "metadata": {},
     "output_type": "execute_result"
    }
   ],
   "source": [
    "k23 = data_lookup[data_lookup.ROOT == \"k23\"]\n",
    "k23"
   ]
  },
  {
   "cell_type": "code",
   "execution_count": 58,
   "metadata": {
    "scrolled": true
   },
   "outputs": [
    {
     "name": "stdout",
     "output_type": "stream",
     "text": [
      "took : 13.504003047943115 seconds\n"
     ]
    }
   ],
   "source": [
    "box = Box.from_string(k23.loc[k23.index.min() +1].BOX)\n",
    "start = time.time()\n",
    "CaBu = get_containing_shape_file(box, \"CaBu\")\n",
    "CaBu_shapes = get_shapes_in_box(CaBu, box).geometry if CaBu is not False else gpd.GeoDataFrame()\n",
    "ReBu = get_containing_shape_file(box, \"ReBu\")\n",
    "ReBu_shapes = get_shapes_in_box(ReBu, box).geometry if ReBu is not False else gpd.GeoDataFrame()\n",
    "print(f\"took : {time.time() -start} seconds\")"
   ]
  },
  {
   "cell_type": "code",
   "execution_count": 60,
   "metadata": {},
   "outputs": [
    {
     "data": {
      "text/html": [
       "<div>\n",
       "<style scoped>\n",
       "    .dataframe tbody tr th:only-of-type {\n",
       "        vertical-align: middle;\n",
       "    }\n",
       "\n",
       "    .dataframe tbody tr th {\n",
       "        vertical-align: top;\n",
       "    }\n",
       "\n",
       "    .dataframe thead th {\n",
       "        text-align: right;\n",
       "    }\n",
       "</style>\n",
       "<table border=\"1\" class=\"dataframe\">\n",
       "  <thead>\n",
       "    <tr style=\"text-align: right;\">\n",
       "      <th></th>\n",
       "    </tr>\n",
       "  </thead>\n",
       "  <tbody>\n",
       "  </tbody>\n",
       "</table>\n",
       "</div>"
      ],
      "text/plain": [
       "Empty GeoDataFrame\n",
       "Columns: []\n",
       "Index: []"
      ]
     },
     "execution_count": 60,
     "metadata": {},
     "output_type": "execute_result"
    }
   ],
   "source": []
  },
  {
   "cell_type": "code",
   "execution_count": 20,
   "metadata": {},
   "outputs": [
    {
     "ename": "AttributeError",
     "evalue": "'bool' object has no attribute 'geometry'",
     "output_type": "error",
     "traceback": [
      "\u001b[0;31m---------------------------------------------------------------------------\u001b[0m",
      "\u001b[0;31mAttributeError\u001b[0m                            Traceback (most recent call last)",
      "\u001b[0;32m<ipython-input-20-0b08aabe3440>\u001b[0m in \u001b[0;36m<module>\u001b[0;34m\u001b[0m\n\u001b[1;32m      7\u001b[0m     \u001b[0mbox\u001b[0m \u001b[0;34m=\u001b[0m \u001b[0mBox\u001b[0m\u001b[0;34m.\u001b[0m\u001b[0mfrom_string\u001b[0m\u001b[0;34m(\u001b[0m\u001b[0mk15\u001b[0m\u001b[0;34m.\u001b[0m\u001b[0mloc\u001b[0m\u001b[0;34m[\u001b[0m\u001b[0midx\u001b[0m\u001b[0;34m]\u001b[0m\u001b[0;34m.\u001b[0m\u001b[0mBOX\u001b[0m\u001b[0;34m)\u001b[0m\u001b[0;34m\u001b[0m\u001b[0;34m\u001b[0m\u001b[0m\n\u001b[1;32m      8\u001b[0m     \u001b[0mcabu\u001b[0m \u001b[0;34m=\u001b[0m \u001b[0mget_containing_shape_file\u001b[0m\u001b[0;34m(\u001b[0m\u001b[0mbox\u001b[0m\u001b[0;34m,\u001b[0m \u001b[0;34m\"CaBu\"\u001b[0m\u001b[0;34m)\u001b[0m\u001b[0;34m\u001b[0m\u001b[0;34m\u001b[0m\u001b[0m\n\u001b[0;32m----> 9\u001b[0;31m     \u001b[0mshapes_list\u001b[0m\u001b[0;34m.\u001b[0m\u001b[0mappend\u001b[0m\u001b[0;34m(\u001b[0m\u001b[0mget_shapes_in_box\u001b[0m\u001b[0;34m(\u001b[0m\u001b[0mcabu\u001b[0m\u001b[0;34m,\u001b[0m \u001b[0mbox\u001b[0m\u001b[0;34m)\u001b[0m\u001b[0;34m)\u001b[0m\u001b[0;34m\u001b[0m\u001b[0;34m\u001b[0m\u001b[0m\n\u001b[0m\u001b[1;32m     10\u001b[0m     \u001b[0mprint\u001b[0m\u001b[0;34m(\u001b[0m\u001b[0;34mf\"{idx} took : {round(time.time() -start, 3)} seconds\"\u001b[0m\u001b[0;34m)\u001b[0m\u001b[0;34m\u001b[0m\u001b[0;34m\u001b[0m\u001b[0m\n",
      "\u001b[0;32m<ipython-input-11-d22ad8a131b7>\u001b[0m in \u001b[0;36mget_shapes_in_box\u001b[0;34m(gdf, box)\u001b[0m\n\u001b[1;32m      9\u001b[0m \u001b[0;34m\u001b[0m\u001b[0m\n\u001b[1;32m     10\u001b[0m \u001b[0;32mdef\u001b[0m \u001b[0mget_shapes_in_box\u001b[0m\u001b[0;34m(\u001b[0m\u001b[0mgdf\u001b[0m\u001b[0;34m:\u001b[0m \u001b[0mGeoDataFrame\u001b[0m\u001b[0;34m,\u001b[0m \u001b[0mbox\u001b[0m\u001b[0;34m:\u001b[0m \u001b[0mBox\u001b[0m\u001b[0;34m)\u001b[0m \u001b[0;34m->\u001b[0m \u001b[0mGeoDataFrame\u001b[0m\u001b[0;34m:\u001b[0m\u001b[0;34m\u001b[0m\u001b[0;34m\u001b[0m\u001b[0m\n\u001b[0;32m---> 11\u001b[0;31m     return gdf[gdf.geometry.apply(\n\u001b[0m\u001b[1;32m     12\u001b[0m         lambda d: box.contains_point(\n\u001b[1;32m     13\u001b[0m             \u001b[0mx\u001b[0m \u001b[0;34m=\u001b[0m \u001b[0mcenter\u001b[0m\u001b[0;34m(\u001b[0m\u001b[0mPolygon\u001b[0m\u001b[0;34m(\u001b[0m\u001b[0md\u001b[0m\u001b[0;34m)\u001b[0m\u001b[0;34m)\u001b[0m\u001b[0;34m[\u001b[0m\u001b[0;36m0\u001b[0m\u001b[0;34m]\u001b[0m\u001b[0;34m,\u001b[0m\u001b[0;34m\u001b[0m\u001b[0;34m\u001b[0m\u001b[0m\n",
      "\u001b[0;31mAttributeError\u001b[0m: 'bool' object has no attribute 'geometry'"
     ]
    }
   ],
   "source": [
    "shapes_list = []\n",
    "k15 = data_lookup[data_lookup.ROOT == \"k15\"]\n",
    "for idx in range(k15.index.min() +1, k15.index.max() +1):\n",
    "    if idx > k15.index.min() +10: break\n",
    "        \n",
    "    start = time.time()\n",
    "    box = Box.from_string(k15.loc[idx].BOX)\n",
    "    cabu = get_containing_shape_file(box, \"CaBu\")\n",
    "    shapes_list.append(get_shapes_in_box(cabu, box))\n",
    "    print(f\"{idx} took : {round(time.time() -start, 3)} seconds\")"
   ]
  },
  {
   "cell_type": "markdown",
   "metadata": {},
   "source": [
    "## Populate DTM"
   ]
  },
  {
   "cell_type": "code",
   "execution_count": 27,
   "metadata": {},
   "outputs": [],
   "source": [
    "import re\n",
    "import pandas as pd\n",
    "populate = pd.read_csv(\"./Data/data_lookup.csv\", sep=\"|\")\n",
    "populate.DTM = populate.DSM\n",
    "populate.DTM = populate.DTM.apply(lambda x:re.sub(\"S\",\"T\",x) if pd.notnull(x) else x)"
   ]
  },
  {
   "cell_type": "code",
   "execution_count": 30,
   "metadata": {},
   "outputs": [],
   "source": [
    "populate.to_csv(\"./Data/data_lookup.csv\",index=False, sep=\"|\")"
   ]
  },
  {
   "cell_type": "code",
   "execution_count": 3,
   "metadata": {},
   "outputs": [
    {
     "ename": "NameError",
     "evalue": "name 'data_lookup' is not defined",
     "output_type": "error",
     "traceback": [
      "\u001b[0;31m---------------------------------------------------------------------------\u001b[0m",
      "\u001b[0;31mNameError\u001b[0m                                 Traceback (most recent call last)",
      "\u001b[0;32m<ipython-input-3-f321af23fe07>\u001b[0m in \u001b[0;36m<module>\u001b[0;34m\u001b[0m\n\u001b[0;32m----> 1\u001b[0;31m \u001b[0mdata_lookup\u001b[0m\u001b[0;34m\u001b[0m\u001b[0;34m\u001b[0m\u001b[0m\n\u001b[0m",
      "\u001b[0;31mNameError\u001b[0m: name 'data_lookup' is not defined"
     ]
    }
   ],
   "source": [
    "data_lookup"
   ]
  },
  {
   "cell_type": "code",
   "execution_count": null,
   "metadata": {},
   "outputs": [],
   "source": []
  }
 ],
 "metadata": {
  "kernelspec": {
   "display_name": "Python 3",
   "language": "python",
   "name": "python3"
  },
  "language_info": {
   "codemirror_mode": {
    "name": "ipython",
    "version": 3
   },
   "file_extension": ".py",
   "mimetype": "text/x-python",
   "name": "python",
   "nbconvert_exporter": "python",
   "pygments_lexer": "ipython3",
   "version": "3.7.6"
  }
 },
 "nbformat": 4,
 "nbformat_minor": 4
}
