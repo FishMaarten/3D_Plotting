{
 "cells": [
  {
   "cell_type": "code",
   "execution_count": null,
   "metadata": {},
   "outputs": [],
   "source": [
    "# numpy for arrays\n",
    "import numpy as np\n",
    "# rasterio for tif access\n",
    "import rasterio as rio\n",
    "# show for tif plotting\n",
    "from rasterio.plot import show\n",
    "# from_bounds for meta editing\n",
    "from rasterio.transform import from_bounds\n",
    "\n",
    "# tif path\n",
    "k15_path = \"/home/becode/Projects/3D_House/LIDAR/k15/DHMVIIDSMRAS1m_k15/GeoTIFF/DHMVIIDSMRAS1m_k15.tif\"\n",
    "# open and store tif\n",
    "k15_tif = rio.open(k15_path)\n",
    "# pixel data from tif\n",
    "k15_data = np.array(k15_tif.read(1))\n",
    "# file data tif\n",
    "k15_meta = k15_tif.meta\n",
    "print(f\"original tif meta data: {k15_meta}\")\n",
    "# lamber72 box of tif\n",
    "k15_bounds = k15_tif.bounds\n",
    "print(f\"original tif bounds: {k15_bounds}\")\n",
    "# crop a 1000x1000 square out of the array\n",
    "k15_arr = k15_data[:1000,:1000]\n",
    "\n",
    "# if you don't change width and height\n",
    "# the cut will be same size as original tif\n",
    "crop_width = k15_meta[\"width\"] = 1000\n",
    "crop_height = k15_meta[\"height\"] = 1000\n",
    "# transform needs to be edited so the crop has correct coords\n",
    "k15_meta[\"transform\"] = from_bounds(\n",
    "    k15_bounds.left,              # new left-most coord\n",
    "    k15_bounds.top - crop_height, # new bottom-most coord\n",
    "    k15_bounds.left + crop_width, # new right-most coord\n",
    "    k15_bounds.top,               # new top-most coord\n",
    "    crop_width, crop_height)      # correct width & height\n",
    "\n",
    "# open a new file in write mode as destination\n",
    "# **meta is the **kwargs passed to the tif\n",
    "with rio.open(\"./cut.tif\", \"w\", **k15_meta) as destination:\n",
    "    # write the pixel data with the **meta data\n",
    "    destination.write(k15_arr, indexes=1)\n",
    "# open the cropped tif we wrote\n",
    "crop = rio.open(\"./cut.tif\")\n",
    "# plot the cropped tif\n",
    "show(crop)\n",
    "# print the cropped meta data\n",
    "print(f\"cropped tif meta data: {crop.meta}\")\n",
    "# print the cropped bounds\n",
    "print(f\"cropped tif bounds: {crop.bounds}\")"
   ]
  }
 ],
 "metadata": {
  "kernelspec": {
   "display_name": "Python 3",
   "language": "python",
   "name": "python3"
  },
  "language_info": {
   "codemirror_mode": {
    "name": "ipython",
    "version": 3
   },
   "file_extension": ".py",
   "mimetype": "text/x-python",
   "name": "python",
   "nbconvert_exporter": "python",
   "pygments_lexer": "ipython3",
   "version": "3.7.6"
  }
 },
 "nbformat": 4,
 "nbformat_minor": 4
}
