{
 "cells": [
  {
   "cell_type": "code",
   "execution_count": 2,
   "metadata": {},
   "outputs": [],
   "source": [
    "import numpy as np\n",
    "import geopandas as gpd\n",
    "import matplotlib.pyplot as plt\n",
    "from PIL import Image\n",
    "import rasterio as rio\n",
    "from rasterio.plot import show\n",
    "from rasterio.mask import mask\n",
    "from shapely.geometry import box"
   ]
  },
  {
   "cell_type": "code",
   "execution_count": 3,
   "metadata": {},
   "outputs": [
    {
     "name": "stdout",
     "output_type": "stream",
     "text": [
      "arr.shape: (1501, 2501, 4)\n"
     ]
    }
   ],
   "source": [
    "arr = plt.imread(\"./test.tif\")\n",
    "print(f\"arr.shape: {arr.shape}\")"
   ]
  },
  {
   "cell_type": "code",
   "execution_count": 5,
   "metadata": {},
   "outputs": [],
   "source": [
    "import numpy as np\n",
    "import rasterio as rio\n",
    "from rasterio.plot import show\n",
    "\n",
    "tif = Image.open(\"./test.tif\")\n",
    "tif.show()\n",
    "arr = np.array(tif)\n",
    "arr.shape\n",
    "meta = rio.open(\"./test.tif\").meta\n",
    "with rio.open(\"./test2.tif\", \"w\", **meta) as dst:\n",
    "    dst.write(arr[:1000,:1000], indexes=1)\n",
    "    \n",
    "    \n",
    "tif = Image.open(\"./test2.tif\")\n",
    "tif.show()"
   ]
  },
  {
   "cell_type": "code",
   "execution_count": 7,
   "metadata": {},
   "outputs": [],
   "source": [
    "tif = Image.open(\"./test.tif\")\n",
    "tif.show()"
   ]
  },
  {
   "cell_type": "code",
   "execution_count": 145,
   "metadata": {},
   "outputs": [
    {
     "data": {
      "text/plain": [
       "()"
      ]
     },
     "execution_count": 145,
     "metadata": {},
     "output_type": "execute_result"
    }
   ],
   "source": [
    "\n",
    "#arr = plt.imread(\"./test.tif\")\n",
    "with rio.open(\"./test.tif\") as tif:\n",
    "    #show(tif, cmap=\"cividis\")\n",
    "    meta = tif.meta\n",
    "    arr = np.array(tif)\n",
    "arr.shape\n",
    "#with rio.open(\"./test2.tif\", \"w\", **meta) as dst:\n",
    "#    dst.write(arr, indexes=1)\n",
    "    \n",
    "#plt.imshow(arr)\n",
    "#plt.imshow(tif[400:800,1000:1400])"
   ]
  },
  {
   "cell_type": "code",
   "execution_count": null,
   "metadata": {},
   "outputs": [],
   "source": []
  }
 ],
 "metadata": {
  "kernelspec": {
   "display_name": "Python 3",
   "language": "python",
   "name": "python3"
  },
  "language_info": {
   "codemirror_mode": {
    "name": "ipython",
    "version": 3
   },
   "file_extension": ".py",
   "mimetype": "text/x-python",
   "name": "python",
   "nbconvert_exporter": "python",
   "pygments_lexer": "ipython3",
   "version": "3.7.6"
  }
 },
 "nbformat": 4,
 "nbformat_minor": 4
}
