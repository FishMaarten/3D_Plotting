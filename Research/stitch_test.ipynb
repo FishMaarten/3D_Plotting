{
 "cells": [
  {
   "cell_type": "code",
   "execution_count": 1,
   "metadata": {},
   "outputs": [],
   "source": [
    "import os\n",
    "import requests\n",
    "import numpy as np\n",
    "import pandas as pd\n",
    "import rasterio as rio\n",
    "from rasterio.plot import show\n",
    "from rasterio.transform import from_bounds\n",
    "from shapely.geometry import box\n",
    "import matplotlib.pyplot as plt"
   ]
  },
  {
   "cell_type": "code",
   "execution_count": 12,
   "metadata": {},
   "outputs": [],
   "source": [
    "data_lookup = pd.read_csv(\"/media/becode/3D_House/Data/data_lookup.csv\", sep=\"|\")\n",
    "data_lookup.DSM.apply(lambda x: \"./Data/\"x)\n",
    "root = data_lookup.ROOT\n"
   ]
  },
  {
   "cell_type": "code",
   "execution_count": 6,
   "metadata": {},
   "outputs": [
    {
     "data": {
      "text/html": [
       "<div>\n",
       "<style scoped>\n",
       "    .dataframe tbody tr th:only-of-type {\n",
       "        vertical-align: middle;\n",
       "    }\n",
       "\n",
       "    .dataframe tbody tr th {\n",
       "        vertical-align: top;\n",
       "    }\n",
       "\n",
       "    .dataframe thead th {\n",
       "        text-align: right;\n",
       "    }\n",
       "</style>\n",
       "<table border=\"1\" class=\"dataframe\">\n",
       "  <thead>\n",
       "    <tr style=\"text-align: right;\">\n",
       "      <th></th>\n",
       "      <th>ROOT</th>\n",
       "      <th>PATH</th>\n",
       "      <th>BOX</th>\n",
       "      <th>DSM</th>\n",
       "      <th>DTM</th>\n",
       "      <th>SHP</th>\n",
       "    </tr>\n",
       "  </thead>\n",
       "  <tbody>\n",
       "    <tr>\n",
       "      <th>23615</th>\n",
       "      <td>k24</td>\n",
       "      <td>0_0_2_1_3</td>\n",
       "      <td>165000 194250 166000 194875 1000 625</td>\n",
       "      <td>./k24/0_0_2_1_3/DSM.tif</td>\n",
       "      <td>NaN</td>\n",
       "      <td>NaN</td>\n",
       "    </tr>\n",
       "  </tbody>\n",
       "</table>\n",
       "</div>"
      ],
      "text/plain": [
       "      ROOT       PATH                                   BOX  \\\n",
       "23615  k24  0_0_2_1_3  165000 194250 166000 194875 1000 625   \n",
       "\n",
       "                           DSM  DTM  SHP  \n",
       "23615  ./k24/0_0_2_1_3/DSM.tif  NaN  NaN  "
      ]
     },
     "execution_count": 6,
     "metadata": {},
     "output_type": "execute_result"
    }
   ],
   "source": [
    "entry = data_lookup[\n",
    "        data_lookup.BOX.apply(lambda b:Box.from_string(b).in_bounds(165312, 194824))\n",
    "       &data_lookup.PATH.apply(lambda p:p != \"ROOT\")]\n",
    "entry"
   ]
  },
  {
   "cell_type": "code",
   "execution_count": 5,
   "metadata": {},
   "outputs": [],
   "source": [
    "class Box:\n",
    "    def __init__(self, bounds=None, left:int=0, bottom:int=0, right:int=0, top:int=0):\n",
    "        if bounds is not None: self.left,self.bottom,self.right,self.top = bounds\n",
    "        else: self.left,self.bottom,self.right,self.top = left,bottom,right,top\n",
    "        self.width, self.height = self.right -self.left, self.top -self.bottom\n",
    "    @classmethod\n",
    "    def around_point(cls, x:int, y:int, size:int):\n",
    "        return Box(None, x-size/2, y-size/2, x+size/2, y+size/2)\n",
    "    @classmethod\n",
    "    def from_string(cls, string:str=\"\"):\n",
    "        string = string.split(\" \")\n",
    "        return Box(None,\n",
    "            int(string[0]),\n",
    "            int(string[1]),\n",
    "            int(string[2]),\n",
    "            int(string[3]))\n",
    "    def __repr__(self):\n",
    "        return \"{} {} {} {} {} {}\".format(\n",
    "            str(int(self.left)),\n",
    "            str(int(self.bottom)),\n",
    "            str(int(self.right)),\n",
    "            str(int(self.top)),\n",
    "            str(int(self.width)),\n",
    "            str(int(self.height)))\n",
    "    def __str__(self):\n",
    "        return \"left:{} bottom:{} right:{} top:{} width:{} height:{}\".format(\n",
    "            self.left, self.bottom, self.right, self.top, self.width, self.height)\n",
    "    def in_bounds(self, x:int, y:int) -> bool:\n",
    "        return self.left <= x < self.right and self.bottom <= y < self.top\n",
    "    def box_in_bounds(self, other) -> bool:\n",
    "        return other.left >= self.left and other.bottom >= self.bottom and other.right <= self.right and other.top <= self.top"
   ]
  },
  {
   "cell_type": "code",
   "execution_count": 7,
   "metadata": {},
   "outputs": [],
   "source": [
    "def get_lambert(address:str) -> (int,int): \n",
    "    req = requests.get(f\"http://loc.geopunt.be/geolocation/location?q={address}&c=1\")\n",
    "    return (req.json()[\"LocationResult\"][0][\"Location\"][\"X_Lambert72\"],\n",
    "            req.json()[\"LocationResult\"][0][\"Location\"][\"Y_Lambert72\"])"
   ]
  },
  {
   "cell_type": "code",
   "execution_count": 8,
   "metadata": {},
   "outputs": [],
   "source": [
    "def get_containing_tif_old(x:int, y:int) -> rio.io.DatasetReader:\n",
    "    return rio.open(data_lookup[\n",
    "        data_lookup.BOX.apply(lambda b:Box.from_string(b).in_bounds(x,y))\n",
    "       &data_lookup.PATH.apply(lambda p:p != \"ROOT\")].DSM.values[0])"
   ]
  },
  {
   "cell_type": "code",
   "execution_count": 9,
   "metadata": {},
   "outputs": [],
   "source": [
    "def crop_location(tif, width:int=200, height:int=200) -> rio.io.DatasetReader:\n",
    "    arr = np.array(tif.read(1))\n",
    "    meta, bounds = tif.meta, tif.bounds\n",
    "    posx, posy = int(x -bounds.left), int(abs(y -bounds.top))\n",
    "    slicex = slice(posx -width//2, posx +width//2)\n",
    "    slicey = slice(posy -height//2, posy +height//2)\n",
    "    meta[\"width\"], meta[\"height\"] = width, height\n",
    "    meta[\"transform\"] = from_bounds(\n",
    "        bounds.left + slicex.start,\n",
    "        bounds.top - slicey.stop,\n",
    "        bounds.left + slicex.stop,\n",
    "        bounds.top - slicey.start,\n",
    "        width, height)\n",
    "    with rio.open(\"./crop.tif\", \"w\", **meta) as crop:\n",
    "        crop.write(arr[slicey,slicex], indexes=1)\n",
    "    return rio.open(\"./crop.tif\")"
   ]
  },
  {
   "cell_type": "code",
   "execution_count": 10,
   "metadata": {},
   "outputs": [
    {
     "name": "stdout",
     "output_type": "stream",
     "text": [
      "152242.43 212849.5\n"
     ]
    },
    {
     "ename": "RasterioIOError",
     "evalue": "./k15/1_2_1_1_0/DSM.tif: No such file or directory",
     "output_type": "error",
     "traceback": [
      "\u001b[0;31m---------------------------------------------------------------------------\u001b[0m",
      "\u001b[0;31mCPLE_OpenFailedError\u001b[0m                      Traceback (most recent call last)",
      "\u001b[0;32mrasterio/_base.pyx\u001b[0m in \u001b[0;36mrasterio._base.DatasetBase.__init__\u001b[0;34m()\u001b[0m\n",
      "\u001b[0;32mrasterio/_shim.pyx\u001b[0m in \u001b[0;36mrasterio._shim.open_dataset\u001b[0;34m()\u001b[0m\n",
      "\u001b[0;32mrasterio/_err.pyx\u001b[0m in \u001b[0;36mrasterio._err.exc_wrap_pointer\u001b[0;34m()\u001b[0m\n",
      "\u001b[0;31mCPLE_OpenFailedError\u001b[0m: ./k15/1_2_1_1_0/DSM.tif: No such file or directory",
      "\nDuring handling of the above exception, another exception occurred:\n",
      "\u001b[0;31mRasterioIOError\u001b[0m                           Traceback (most recent call last)",
      "\u001b[0;32m<ipython-input-10-6512be7275dd>\u001b[0m in \u001b[0;36m<module>\u001b[0;34m\u001b[0m\n\u001b[1;32m      1\u001b[0m \u001b[0mx\u001b[0m\u001b[0;34m,\u001b[0m \u001b[0my\u001b[0m \u001b[0;34m=\u001b[0m \u001b[0mget_lambert\u001b[0m\u001b[0;34m(\u001b[0m\u001b[0;34m\"Sint-Pietersvliet 7, 2000 Antwerpen\"\u001b[0m\u001b[0;34m)\u001b[0m\u001b[0;34m\u001b[0m\u001b[0;34m\u001b[0m\u001b[0m\n\u001b[1;32m      2\u001b[0m \u001b[0mprint\u001b[0m\u001b[0;34m(\u001b[0m\u001b[0mx\u001b[0m\u001b[0;34m,\u001b[0m\u001b[0my\u001b[0m\u001b[0;34m)\u001b[0m\u001b[0;34m\u001b[0m\u001b[0;34m\u001b[0m\u001b[0m\n\u001b[0;32m----> 3\u001b[0;31m \u001b[0mtif\u001b[0m \u001b[0;34m=\u001b[0m \u001b[0mget_containing_tif_old\u001b[0m\u001b[0;34m(\u001b[0m\u001b[0mx\u001b[0m\u001b[0;34m,\u001b[0m \u001b[0my\u001b[0m\u001b[0;34m)\u001b[0m\u001b[0;34m\u001b[0m\u001b[0;34m\u001b[0m\u001b[0m\n\u001b[0m\u001b[1;32m      4\u001b[0m \u001b[0mplt\u001b[0m\u001b[0;34m.\u001b[0m\u001b[0mfigure\u001b[0m\u001b[0;34m(\u001b[0m\u001b[0mfigsize\u001b[0m\u001b[0;34m=\u001b[0m\u001b[0;34m(\u001b[0m\u001b[0;36m8\u001b[0m\u001b[0;34m,\u001b[0m\u001b[0;36m8\u001b[0m\u001b[0;34m)\u001b[0m\u001b[0;34m)\u001b[0m\u001b[0;34m\u001b[0m\u001b[0;34m\u001b[0m\u001b[0m\n\u001b[1;32m      5\u001b[0m \u001b[0mshow\u001b[0m\u001b[0;34m(\u001b[0m\u001b[0mcrop_location\u001b[0m\u001b[0;34m(\u001b[0m\u001b[0mtif\u001b[0m\u001b[0;34m,\u001b[0m\u001b[0;36m100\u001b[0m\u001b[0;34m,\u001b[0m\u001b[0;36m100\u001b[0m\u001b[0;34m)\u001b[0m\u001b[0;34m,\u001b[0m \u001b[0mcmap\u001b[0m\u001b[0;34m=\u001b[0m\u001b[0;34m\"cividis\"\u001b[0m\u001b[0;34m)\u001b[0m\u001b[0;34m\u001b[0m\u001b[0;34m\u001b[0m\u001b[0m\n",
      "\u001b[0;32m<ipython-input-8-5899e2232849>\u001b[0m in \u001b[0;36mget_containing_tif_old\u001b[0;34m(x, y)\u001b[0m\n\u001b[1;32m      2\u001b[0m     return rio.open(data_lookup[\n\u001b[1;32m      3\u001b[0m         \u001b[0mdata_lookup\u001b[0m\u001b[0;34m.\u001b[0m\u001b[0mBOX\u001b[0m\u001b[0;34m.\u001b[0m\u001b[0mapply\u001b[0m\u001b[0;34m(\u001b[0m\u001b[0;32mlambda\u001b[0m \u001b[0mb\u001b[0m\u001b[0;34m:\u001b[0m\u001b[0mBox\u001b[0m\u001b[0;34m.\u001b[0m\u001b[0mfrom_string\u001b[0m\u001b[0;34m(\u001b[0m\u001b[0mb\u001b[0m\u001b[0;34m)\u001b[0m\u001b[0;34m.\u001b[0m\u001b[0min_bounds\u001b[0m\u001b[0;34m(\u001b[0m\u001b[0mx\u001b[0m\u001b[0;34m,\u001b[0m\u001b[0my\u001b[0m\u001b[0;34m)\u001b[0m\u001b[0;34m)\u001b[0m\u001b[0;34m\u001b[0m\u001b[0;34m\u001b[0m\u001b[0m\n\u001b[0;32m----> 4\u001b[0;31m        &data_lookup.PATH.apply(lambda p:p != \"ROOT\")].DSM.values[0])\n\u001b[0m",
      "\u001b[0;32m~/anaconda3/lib/python3.7/site-packages/rasterio/env.py\u001b[0m in \u001b[0;36mwrapper\u001b[0;34m(*args, **kwds)\u001b[0m\n\u001b[1;32m    431\u001b[0m \u001b[0;34m\u001b[0m\u001b[0m\n\u001b[1;32m    432\u001b[0m         \u001b[0;32mwith\u001b[0m \u001b[0menv_ctor\u001b[0m\u001b[0;34m(\u001b[0m\u001b[0msession\u001b[0m\u001b[0;34m=\u001b[0m\u001b[0msession\u001b[0m\u001b[0;34m)\u001b[0m\u001b[0;34m:\u001b[0m\u001b[0;34m\u001b[0m\u001b[0;34m\u001b[0m\u001b[0m\n\u001b[0;32m--> 433\u001b[0;31m             \u001b[0;32mreturn\u001b[0m \u001b[0mf\u001b[0m\u001b[0;34m(\u001b[0m\u001b[0;34m*\u001b[0m\u001b[0margs\u001b[0m\u001b[0;34m,\u001b[0m \u001b[0;34m**\u001b[0m\u001b[0mkwds\u001b[0m\u001b[0;34m)\u001b[0m\u001b[0;34m\u001b[0m\u001b[0;34m\u001b[0m\u001b[0m\n\u001b[0m\u001b[1;32m    434\u001b[0m \u001b[0;34m\u001b[0m\u001b[0m\n\u001b[1;32m    435\u001b[0m     \u001b[0;32mreturn\u001b[0m \u001b[0mwrapper\u001b[0m\u001b[0;34m\u001b[0m\u001b[0;34m\u001b[0m\u001b[0m\n",
      "\u001b[0;32m~/anaconda3/lib/python3.7/site-packages/rasterio/__init__.py\u001b[0m in \u001b[0;36mopen\u001b[0;34m(fp, mode, driver, width, height, count, crs, transform, dtype, nodata, sharing, **kwargs)\u001b[0m\n\u001b[1;32m    216\u001b[0m         \u001b[0;31m# None.\u001b[0m\u001b[0;34m\u001b[0m\u001b[0;34m\u001b[0m\u001b[0;34m\u001b[0m\u001b[0m\n\u001b[1;32m    217\u001b[0m         \u001b[0;32mif\u001b[0m \u001b[0mmode\u001b[0m \u001b[0;34m==\u001b[0m \u001b[0;34m'r'\u001b[0m\u001b[0;34m:\u001b[0m\u001b[0;34m\u001b[0m\u001b[0;34m\u001b[0m\u001b[0m\n\u001b[0;32m--> 218\u001b[0;31m             \u001b[0ms\u001b[0m \u001b[0;34m=\u001b[0m \u001b[0mDatasetReader\u001b[0m\u001b[0;34m(\u001b[0m\u001b[0mpath\u001b[0m\u001b[0;34m,\u001b[0m \u001b[0mdriver\u001b[0m\u001b[0;34m=\u001b[0m\u001b[0mdriver\u001b[0m\u001b[0;34m,\u001b[0m \u001b[0msharing\u001b[0m\u001b[0;34m=\u001b[0m\u001b[0msharing\u001b[0m\u001b[0;34m,\u001b[0m \u001b[0;34m**\u001b[0m\u001b[0mkwargs\u001b[0m\u001b[0;34m)\u001b[0m\u001b[0;34m\u001b[0m\u001b[0;34m\u001b[0m\u001b[0m\n\u001b[0m\u001b[1;32m    219\u001b[0m         \u001b[0;32melif\u001b[0m \u001b[0mmode\u001b[0m \u001b[0;34m==\u001b[0m \u001b[0;34m\"r+\"\u001b[0m\u001b[0;34m:\u001b[0m\u001b[0;34m\u001b[0m\u001b[0;34m\u001b[0m\u001b[0m\n\u001b[1;32m    220\u001b[0m             s = get_writer_for_path(path, driver=driver)(\n",
      "\u001b[0;32mrasterio/_base.pyx\u001b[0m in \u001b[0;36mrasterio._base.DatasetBase.__init__\u001b[0;34m()\u001b[0m\n",
      "\u001b[0;31mRasterioIOError\u001b[0m: ./k15/1_2_1_1_0/DSM.tif: No such file or directory"
     ]
    }
   ],
   "source": [
    "x, y = get_lambert(\"Sint-Pietersvliet 7, 2000 Antwerpen\")\n",
    "print(x,y)\n",
    "tif = get_containing_tif_old(x, y)\n",
    "plt.figure(figsize=(8,8))\n",
    "show(crop_location(tif,100,100), cmap=\"cividis\")"
   ]
  },
  {
   "cell_type": "code",
   "execution_count": 253,
   "metadata": {},
   "outputs": [],
   "source": [
    "def get_containing_tif(x:int, y:int, size:int=100) -> {rio.io.DatasetReader}:\n",
    "    main = get_containing_tif_old(x,y)\n",
    "    crop_box = Box.around_point(x,y,size)\n",
    "    if Box(main.bounds).box_in_bounds(crop_box): return main\n",
    "    result = {}\n",
    "    result[\"main\"] = get_containing_tif_old(x,y)\n",
    "    box = Box(result[\"main\"].bounds)\n",
    "    crop_box = Box.around_point(x,y,size)\n",
    "    if crop_box.left < box.left: result[\"left\"]  = get_containing_tif_old(crop_box.left, y)\n",
    "    if crop_box.bottom < box.bottom: result[\"bottom\"]  = get_containing_tif_old(x, crop_box.bottom)\n",
    "    if crop_box.right > box.right: result[\"right\"]  = get_containing_tif_old(crop_box.right, y)\n",
    "    if crop_box.top > box.top: result[\"top\"]  = get_containing_tif_old(x, crop_box.top)        \n",
    "    return result\n",
    "\n",
    "x, y = get_lambert(\"Molenstraat 52, Sint-Kat\")\n",
    "tifs = get_containing_tif(x,y)"
   ]
  },
  {
   "cell_type": "code",
   "execution_count": 285,
   "metadata": {},
   "outputs": [
    {
     "data": {
      "text/plain": [
       "array([[0., 0.],\n",
       "       [0., 0.],\n",
       "       [1., 1.],\n",
       "       [1., 1.]])"
      ]
     },
     "execution_count": 285,
     "metadata": {},
     "output_type": "execute_result"
    }
   ],
   "source": [
    "align = {\n",
    "    \"left\": (1,0,1),\n",
    "    \"bottom\": (0,1,0),\n",
    "    \"right\": (0,1,1),\n",
    "    \"top\": (1,0,0)}\n",
    "def concat_tifs(tifs:(), key:str):\n",
    "    meta = tifs[0].meta\n",
    "    meta[\"width\"] *= 2 if key is ()\n",
    "    with open(\"./tmp.tif\", \"w\", **meta)\n",
    "    return np.concatenate((tifs[align[key][0]],tifs[align[key][1]]),axis=align[key][2])\n",
    "concat_tifs((np.zeros(4).reshape(2,2), np.ones(4).reshape(2,2)),\"bottom\")"
   ]
  },
  {
   "cell_type": "code",
   "execution_count": 260,
   "metadata": {},
   "outputs": [
    {
     "name": "stdout",
     "output_type": "stream",
     "text": [
      "[[4 5 0 1]\n",
      " [6 7 2 3]]\n",
      "[[0 1]\n",
      " [2 3]\n",
      " [4 5]\n",
      " [6 7]]\n",
      "[[0 1 4 5]\n",
      " [2 3 6 7]]\n",
      "[[4 5]\n",
      " [6 7]\n",
      " [0 1]\n",
      " [2 3]]\n"
     ]
    }
   ],
   "source": [
    "arr1 = np.arange(4).reshape(2,2)\n",
    "arr2 = np.arange(4,8).reshape(2,2)\n",
    "print(np.concatenate((arr2,arr1),axis=1)) #left\n",
    "print(np.concatenate((arr1,arr2))) #bottom\n",
    "print(np.concatenate((arr1,arr2),axis=1)) #right\n",
    "print(np.concatenate((arr2,arr1))) #up"
   ]
  },
  {
   "cell_type": "code",
   "execution_count": 235,
   "metadata": {},
   "outputs": [
    {
     "name": "stdout",
     "output_type": "stream",
     "text": [
      "[[0. 1. 4. 5.]\n",
      " [2. 3. 6. 7.]]\n"
     ]
    }
   ],
   "source": [
    "arr1 = np.arange(4).reshape(2,2)\n",
    "arr2 = np.arange(4,8).reshape(2,2)\n",
    "arr_LR = np.zeros(arr1.size +arr2.size).reshape(arr1.shape[0], arr1.shape[1] +arr2.shape[1])\n",
    "arr_DU = np.zeros(arr1.size +arr2.size).reshape(arr1.shape[0] +arr2.shape[0], arr1.shape[1])\n",
    "for y in range(arr_DU.shape[0]):\n",
    "    for x in range(arr_DU.shape[1]):\n",
    "        arr = \n",
    "for y in range(arr1.shape[0]):\n",
    "    for x in range(arr1.shape[1]):\n",
    "        arr3[y,x] = arr1[y,x]\n",
    "    for x in range(arr2.shape[1]):\n",
    "        arr3[y,x+arr1.shape[1]] = arr2[y,x]\n",
    "print(arr3)\n",
    "# A B right"
   ]
  },
  {
   "cell_type": "code",
   "execution_count": null,
   "metadata": {},
   "outputs": [],
   "source": [
    "arr1 = np.arange(4).reshape(2,2)\n",
    "arr2 = np.arange(4,8).reshape(2,2)\n",
    "arr3 = np.zeros(8).reshape() #TOP"
   ]
  }
 ],
 "metadata": {
  "kernelspec": {
   "display_name": "Python 3",
   "language": "python",
   "name": "python3"
  },
  "language_info": {
   "codemirror_mode": {
    "name": "ipython",
    "version": 3
   },
   "file_extension": ".py",
   "mimetype": "text/x-python",
   "name": "python",
   "nbconvert_exporter": "python",
   "pygments_lexer": "ipython3",
   "version": "3.7.6"
  }
 },
 "nbformat": 4,
 "nbformat_minor": 4
}
