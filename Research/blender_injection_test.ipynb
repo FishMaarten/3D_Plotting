{
 "cells": [
  {
   "cell_type": "code",
   "execution_count": 1,
   "metadata": {},
   "outputs": [],
   "source": [
    "import json\n",
    "import requests\n",
    "import subprocess\n",
    "import numpy as np\n",
    "import pandas as pd\n",
    "import geopandas as gpd\n",
    "import rasterio as rio\n",
    "from rasterio.mask import mask\n",
    "from dependencies import Box, GeoTIFF\n",
    "\n",
    "def get_lambert(address:str) -> (int,int):\n",
    "    req = requests.get(f\"http://loc.geopunt.be/geolocation/location?q={address}&c=1\")\n",
    "    return (req.json()[\"LocationResult\"][0][\"Location\"][\"X_Lambert72\"],\n",
    "            req.json()[\"LocationResult\"][0][\"Location\"][\"Y_Lambert72\"])"
   ]
  },
  {
   "cell_type": "code",
   "execution_count": 2,
   "metadata": {},
   "outputs": [],
   "source": [
    "from geopandas import GeoDataFrame\n",
    "from shapely.geometry import Polygon\n",
    "from shapely.geometry import MultiPolygon\n",
    "from BlenderObjectBuilder import Vertex\n",
    "class Shape:\n",
    "    @classmethod\n",
    "    def poly_coord_to_vertex(cls, coord:(float,float)) -> Vertex:\n",
    "        return Vertex(*coord)\n",
    "    @classmethod\n",
    "    def polygon_to_vertices(cls, poly:Polygon) -> [Vertex]:\n",
    "        result = []\n",
    "        for coord in poly.exterior.coords:\n",
    "            result.append(cls.poly_coord_to_vertex(coord))\n",
    "        return result[:-1]\n",
    "    @classmethod\n",
    "    def center(cls, poly:Polygon):\n",
    "        return(int(poly.bounds[0]+poly.bounds[2]-poly.bounds[0]),\n",
    "               int(poly.bounds[1]+poly.bounds[3]-poly.bounds[1]))\n",
    "    @classmethod\n",
    "    def mean_shape_height(cls, tif, shape):\n",
    "        out_image, out_transform = mask(tif.load(), shapes=[shape], crop=True, invert=False)\n",
    "        li = []\n",
    "        for y in out_image[0]:\n",
    "            for x in y:\n",
    "                if x > 0: li.append(x)\n",
    "        return np.array(li).mean()\n",
    "    @classmethod\n",
    "    def get_shape_entry_from_point(cls, x:float, y:float):\n",
    "        return shape_lookup[shape_lookup.CaBl.apply(lambda s: Box.from_string(s).contains_point(x,y) == True)]\n",
    "    @classmethod\n",
    "    def get_shape_file_from_point(cls, x:float, y:float, ftype:str):\n",
    "        entry = cls.get_shape_entry_from_point(x,y)\n",
    "        return gpd.read_file(f\"./Shapes/{entry.Province.values[0]}/{entry.Place.values[0]}/Bpn_{ftype}.shp\")\n",
    "    @classmethod\n",
    "    def get_containing_shape_file(cls, tif_box:Box, ftype:str):\n",
    "        entry = shape_lookup[shape_lookup[ftype].apply(\n",
    "            lambda x:Box.from_string(x).contains_box(tif_box) if pd.notnull(x) else False)]\n",
    "        if entry.empty: return False\n",
    "        return gpd.read_file(f\"./Shapes/{entry.Province.values[0]}/{entry.Place.values[0]}/Bpn_{ftype}.shp\")\n",
    "    @classmethod\n",
    "    def get_shapes_in_box(cls, gdf: GeoDataFrame, box: Box) -> GeoDataFrame:\n",
    "        return gdf[gdf.geometry.apply(\n",
    "            lambda d: box.contains_point(\n",
    "                x = cls.center(Polygon(d))[0],\n",
    "                y = cls.center(Polygon(d))[1])\n",
    "            if type(d) != MultiPolygon else False)]\n",
    "shape_lookup = pd.read_csv(\"/media/becode/3D_House/Shapes/shape_lookup.csv\", sep=\"|\")"
   ]
  },
  {
   "cell_type": "markdown",
   "metadata": {},
   "source": [
    "## Entire shapefile to blender (flat)"
   ]
  },
  {
   "cell_type": "code",
   "execution_count": 115,
   "metadata": {},
   "outputs": [],
   "source": [
    "duffel = gpd.read_file(\"/media/becode/3D_House/Shapes/Antwerpen/Duffel/Bpn_CaBu.shp\")\n",
    "\n",
    "minx = duffel.bounds.minx.min()\n",
    "miny = duffel.bounds.miny.min()\n",
    "normalized_origin = Vertex(minx, miny)\n",
    "\n",
    "data = {idx : Shape.polygon_to_vertices(entry)\n",
    "        for idx, entry in duffel.geometry[\n",
    "            duffel.geometry.apply(lambda x: type(x) != MultiPolygon)\n",
    "        ].iteritems()}\n",
    "\n",
    "for idx, shape in data.items():\n",
    "    for i, vertex in enumerate(shape):\n",
    "        data[idx][i] = (vertex -normalized_origin).scale(.01).xyz\n",
    "\n",
    "with open(\"./object_data.json\", \"w\") as out:\n",
    "    json.dump(data, out)"
   ]
  },
  {
   "cell_type": "markdown",
   "metadata": {},
   "source": [
    "## DSM, DTM & DCM to Blender"
   ]
  },
  {
   "cell_type": "code",
   "execution_count": 57,
   "metadata": {},
   "outputs": [
    {
     "name": "stdout",
     "output_type": "stream",
     "text": [
      "Address : Mechelsesteenweg 306 Sint-Kat\n"
     ]
    }
   ],
   "source": [
    "x, y = get_lambert(input(\"Address : \"))\n",
    "\n",
    "DSM = GeoTIFF.get_tif_from_point(x,y, \"DSM\").arr\n",
    "DTM = GeoTIFF.get_tif_from_point(x,y, \"DTM\").arr\n",
    "tifs = {\"DSM\": DSM, \"DTM\": DTM, \"DCM\": DSM - DTM}\n",
    "\n",
    "data = {}\n",
    "for ftype, tif in tifs.items():\n",
    "    data[ftype] = {}\n",
    "    for y in range(tif.shape[0]):\n",
    "        data[ftype][y] = []\n",
    "        for x in range(tif.shape[1]):\n",
    "            data[ftype][y].append(np.float64(tif[y,x]))\n",
    "        data[ftype][y] = data[ftype][y][::-1]\n",
    "        \n",
    "with open(\"./object_data.json\", \"w\") as out:\n",
    "    json.dump(data, out)"
   ]
  },
  {
   "cell_type": "markdown",
   "metadata": {},
   "source": [
    "## Building heights"
   ]
  },
  {
   "cell_type": "code",
   "execution_count": 3,
   "metadata": {},
   "outputs": [
    {
     "name": "stdout",
     "output_type": "stream",
     "text": [
      "Address : Bosstraat 45 Duffel\n"
     ]
    }
   ],
   "source": [
    "x, y = get_lambert(input(\"Address : \"))\n",
    "crop_DTM = GeoTIFF.get_containing_tif(x,y,100, \"DTM\")\n",
    "crop_DSM = GeoTIFF.get_containing_tif(x,y,100, \"DSM\")\n",
    "file = Shape.get_containing_shape_file(crop_DTM.box, \"CaBu\")\n",
    "shapes = Shape.get_shapes_in_box(file, crop_DTM.box)\n",
    "normalized_origin = Vertex(crop_DTM.box.left, crop_DSM.box.bottom)\n",
    "\n",
    "terrain = {}\n",
    "for idx, y in enumerate(range(crop_DTM.arr.shape[0])[::-1]):\n",
    "    terrain[idx] = []\n",
    "    for x in range(crop_DTM.arr.shape[1]):\n",
    "        terrain[idx].append(np.float64(crop_DTM.arr[y,x]))      \n",
    "blocks = {idx : {\n",
    "    \"vertices\": list(map(lambda x: (x -normalized_origin).xyz, Shape.polygon_to_vertices(entry))),\n",
    "    \"height\": np.float64(Shape.mean_shape_height(crop_DSM, entry) +1)}\n",
    "        for idx, entry in shapes.geometry.iteritems()}\n",
    "data = {\"terrain\": terrain, \"blocks\": blocks}\n",
    "\n",
    "with open(\"./object_data.json\", \"w\") as out:\n",
    "    json.dump(data, out)"
   ]
  },
  {
   "cell_type": "code",
   "execution_count": 9,
   "metadata": {},
   "outputs": [
    {
     "data": {
      "text/html": [
       "<div>\n",
       "<style scoped>\n",
       "    .dataframe tbody tr th:only-of-type {\n",
       "        vertical-align: middle;\n",
       "    }\n",
       "\n",
       "    .dataframe tbody tr th {\n",
       "        vertical-align: top;\n",
       "    }\n",
       "\n",
       "    .dataframe thead th {\n",
       "        text-align: right;\n",
       "    }\n",
       "</style>\n",
       "<table border=\"1\" class=\"dataframe\">\n",
       "  <thead>\n",
       "    <tr style=\"text-align: right;\">\n",
       "      <th></th>\n",
       "      <th>RecId</th>\n",
       "      <th>Type</th>\n",
       "      <th>FiscSitId</th>\n",
       "      <th>UpdDate</th>\n",
       "      <th>Shape_area</th>\n",
       "      <th>geometry</th>\n",
       "    </tr>\n",
       "  </thead>\n",
       "  <tbody>\n",
       "    <tr>\n",
       "      <th>39</th>\n",
       "      <td>10021282</td>\n",
       "      <td>CL</td>\n",
       "      <td>2</td>\n",
       "      <td>2017-03-16</td>\n",
       "      <td>152.9999</td>\n",
       "      <td>POLYGON ((157240.644 197556.888, 157251.642 19...</td>\n",
       "    </tr>\n",
       "    <tr>\n",
       "      <th>117</th>\n",
       "      <td>2301550</td>\n",
       "      <td>CL</td>\n",
       "      <td>1</td>\n",
       "      <td>2016-12-01</td>\n",
       "      <td>108.7859</td>\n",
       "      <td>POLYGON ((157400.871 197505.708, 157400.237 19...</td>\n",
       "    </tr>\n",
       "    <tr>\n",
       "      <th>129</th>\n",
       "      <td>2301563</td>\n",
       "      <td>CL</td>\n",
       "      <td>1</td>\n",
       "      <td>2016-12-01</td>\n",
       "      <td>127.5275</td>\n",
       "      <td>POLYGON ((157541.354 197643.111, 157530.358 19...</td>\n",
       "    </tr>\n",
       "    <tr>\n",
       "      <th>130</th>\n",
       "      <td>2301564</td>\n",
       "      <td>CL</td>\n",
       "      <td>1</td>\n",
       "      <td>2016-12-01</td>\n",
       "      <td>20.4238</td>\n",
       "      <td>POLYGON ((157521.786 197640.211, 157517.749 19...</td>\n",
       "    </tr>\n",
       "    <tr>\n",
       "      <th>133</th>\n",
       "      <td>2301567</td>\n",
       "      <td>CL</td>\n",
       "      <td>1</td>\n",
       "      <td>2016-12-01</td>\n",
       "      <td>224.6420</td>\n",
       "      <td>POLYGON ((157581.203 197664.594, 157585.134 19...</td>\n",
       "    </tr>\n",
       "    <tr>\n",
       "      <th>...</th>\n",
       "      <td>...</td>\n",
       "      <td>...</td>\n",
       "      <td>...</td>\n",
       "      <td>...</td>\n",
       "      <td>...</td>\n",
       "      <td>...</td>\n",
       "    </tr>\n",
       "    <tr>\n",
       "      <th>9946</th>\n",
       "      <td>10220856</td>\n",
       "      <td>CL</td>\n",
       "      <td>3</td>\n",
       "      <td>2018-01-25</td>\n",
       "      <td>47.9999</td>\n",
       "      <td>POLYGON ((157362.967 197476.776, 157368.961 19...</td>\n",
       "    </tr>\n",
       "    <tr>\n",
       "      <th>9947</th>\n",
       "      <td>10750989</td>\n",
       "      <td>CL</td>\n",
       "      <td>5</td>\n",
       "      <td>2019-10-01</td>\n",
       "      <td>130.9005</td>\n",
       "      <td>POLYGON ((157553.182 197495.264, 157560.874 19...</td>\n",
       "    </tr>\n",
       "    <tr>\n",
       "      <th>9948</th>\n",
       "      <td>10750856</td>\n",
       "      <td>CL</td>\n",
       "      <td>5</td>\n",
       "      <td>2019-10-01</td>\n",
       "      <td>148.4598</td>\n",
       "      <td>POLYGON ((157599.987 197492.043, 157608.278 19...</td>\n",
       "    </tr>\n",
       "    <tr>\n",
       "      <th>9961</th>\n",
       "      <td>10798986</td>\n",
       "      <td>UN</td>\n",
       "      <td>5</td>\n",
       "      <td>2020-01-08</td>\n",
       "      <td>257.5274</td>\n",
       "      <td>POLYGON ((157066.232 197806.036, 157073.495 19...</td>\n",
       "    </tr>\n",
       "    <tr>\n",
       "      <th>9972</th>\n",
       "      <td>10823319</td>\n",
       "      <td>CL</td>\n",
       "      <td>5</td>\n",
       "      <td>2020-01-16</td>\n",
       "      <td>115.0080</td>\n",
       "      <td>POLYGON ((157327.401 197495.315, 157317.405 19...</td>\n",
       "    </tr>\n",
       "  </tbody>\n",
       "</table>\n",
       "<p>266 rows × 6 columns</p>\n",
       "</div>"
      ],
      "text/plain": [
       "         RecId Type  FiscSitId     UpdDate  Shape_area  \\\n",
       "39    10021282   CL          2  2017-03-16    152.9999   \n",
       "117    2301550   CL          1  2016-12-01    108.7859   \n",
       "129    2301563   CL          1  2016-12-01    127.5275   \n",
       "130    2301564   CL          1  2016-12-01     20.4238   \n",
       "133    2301567   CL          1  2016-12-01    224.6420   \n",
       "...        ...  ...        ...         ...         ...   \n",
       "9946  10220856   CL          3  2018-01-25     47.9999   \n",
       "9947  10750989   CL          5  2019-10-01    130.9005   \n",
       "9948  10750856   CL          5  2019-10-01    148.4598   \n",
       "9961  10798986   UN          5  2020-01-08    257.5274   \n",
       "9972  10823319   CL          5  2020-01-16    115.0080   \n",
       "\n",
       "                                               geometry  \n",
       "39    POLYGON ((157240.644 197556.888, 157251.642 19...  \n",
       "117   POLYGON ((157400.871 197505.708, 157400.237 19...  \n",
       "129   POLYGON ((157541.354 197643.111, 157530.358 19...  \n",
       "130   POLYGON ((157521.786 197640.211, 157517.749 19...  \n",
       "133   POLYGON ((157581.203 197664.594, 157585.134 19...  \n",
       "...                                                 ...  \n",
       "9946  POLYGON ((157362.967 197476.776, 157368.961 19...  \n",
       "9947  POLYGON ((157553.182 197495.264, 157560.874 19...  \n",
       "9948  POLYGON ((157599.987 197492.043, 157608.278 19...  \n",
       "9961  POLYGON ((157066.232 197806.036, 157073.495 19...  \n",
       "9972  POLYGON ((157327.401 197495.315, 157317.405 19...  \n",
       "\n",
       "[266 rows x 6 columns]"
      ]
     },
     "execution_count": 9,
     "metadata": {},
     "output_type": "execute_result"
    }
   ],
   "source": [
    "shapes"
   ]
  },
  {
   "cell_type": "code",
   "execution_count": 68,
   "metadata": {},
   "outputs": [
    {
     "name": "stdout",
     "output_type": "stream",
     "text": [
      "Address : Bosstraat 45 Duffel\n"
     ]
    }
   ],
   "source": [
    "x, y = get_lambert(input(\"Address : \"))\n",
    "crop_DTM = GeoTIFF.get_containing_tif(x,y,100, \"DTM\")\n",
    "crop_DSM = GeoTIFF.get_containing_tif(x,y,100, \"DSM\")\n",
    "file = Shape.get_containing_shape_file(crop_DTM.box, \"CaBu\")\n",
    "shapes = Shape.get_shapes_in_box(file, crop_DTM.box)\n",
    "normalized_origin = Vertex(crop_DTM.box.left, crop_DSM.box.bottom)\n",
    "\n",
    "out_image, out_transform = mask(\n",
    "    crop_DSM.load(), shapes=shapes.geometry,pad=True,pad_width=2, crop=False, invert=True, nodata=crop_DTM.arr.mean())\n",
    "\n",
    "data = {}\n",
    "data[\"test\"] = {}\n",
    "for idx, y in enumerate(range(out_image[0].shape[0])[::-1]):\n",
    "    data[\"test\"][idx] = []\n",
    "    for x in range(out_image[0].shape[1]):\n",
    "        data[\"test\"][idx].append(np.float64(out_image[0][y,x]))\n",
    "    #data[\"test\"][idx] = data[\"test\"][idx][::-1]\n",
    "with open(\"./object_data.json\", \"w\") as out:\n",
    "    json.dump(data, out)"
   ]
  },
  {
   "cell_type": "code",
   "execution_count": null,
   "metadata": {},
   "outputs": [],
   "source": []
  },
  {
   "cell_type": "markdown",
   "metadata": {},
   "source": [
    "## Inject Blender"
   ]
  },
  {
   "cell_type": "code",
   "execution_count": 4,
   "metadata": {},
   "outputs": [
    {
     "data": {
      "text/plain": [
       "CompletedProcess(args='blender -P blender_inject_template.py', returncode=0)"
      ]
     },
     "execution_count": 4,
     "metadata": {},
     "output_type": "execute_result"
    }
   ],
   "source": [
    "subprocess.run(\"blender -P blender_inject_template.py\", shell=True)"
   ]
  },
  {
   "cell_type": "code",
   "execution_count": null,
   "metadata": {},
   "outputs": [],
   "source": []
  },
  {
   "cell_type": "code",
   "execution_count": null,
   "metadata": {},
   "outputs": [],
   "source": []
  },
  {
   "cell_type": "code",
   "execution_count": null,
   "metadata": {},
   "outputs": [],
   "source": []
  },
  {
   "cell_type": "code",
   "execution_count": null,
   "metadata": {},
   "outputs": [],
   "source": []
  }
 ],
 "metadata": {
  "kernelspec": {
   "display_name": "Python 3",
   "language": "python",
   "name": "python3"
  },
  "language_info": {
   "codemirror_mode": {
    "name": "ipython",
    "version": 3
   },
   "file_extension": ".py",
   "mimetype": "text/x-python",
   "name": "python",
   "nbconvert_exporter": "python",
   "pygments_lexer": "ipython3",
   "version": "3.7.6"
  }
 },
 "nbformat": 4,
 "nbformat_minor": 4
}
